{
 "cells": [
  {
   "cell_type": "raw",
   "id": "965df39b",
   "metadata": {
    "_cell_guid": "b1076dfc-b9ad-4769-8c92-a6c4dae69d19",
    "_uuid": "8f2839f25d086af736a60e9eeb907d3b93b6e0e5",
    "papermill": {
     "duration": 0.003575,
     "end_time": "2023-07-01T14:38:10.498922",
     "exception": false,
     "start_time": "2023-07-01T14:38:10.495347",
     "status": "completed"
    },
    "tags": []
   },
   "source": [
    "# This Python 3 environment comes with many helpful analytics libraries installed\n",
    "# It is defined by the kaggle/python Docker image: https://github.com/kaggle/docker-python\n",
    "# For example, here's several helpful packages to load\n",
    "\n",
    "import numpy as np # linear algebra\n",
    "import pandas as pd # data processing, CSV file I/O (e.g. pd.read_csv)\n",
    "\n",
    "# Input data files are available in the read-only \"../input/\" directory\n",
    "# For example, running this (by clicking run or pressing Shift+Enter) will list all files under the input directory\n",
    "\n",
    "import os\n",
    "for dirname, _, filenames in os.walk('/kaggle/input'):\n",
    "    for filename in filenames:\n",
    "        print(os.path.join(dirname, filename))\n",
    "\n",
    "# You can write up to 20GB to the current directory (/kaggle/working/) that gets preserved as output when you create a version using \"Save & Run All\" \n",
    "# You can also write temporary files to /kaggle/temp/, but they won't be saved outside of the current session"
   ]
  },
  {
   "cell_type": "code",
   "execution_count": 1,
   "id": "2c4a0ba5",
   "metadata": {
    "execution": {
     "iopub.execute_input": "2023-07-01T14:38:10.507216Z",
     "iopub.status.busy": "2023-07-01T14:38:10.506870Z",
     "iopub.status.idle": "2023-07-01T14:38:12.427914Z",
     "shell.execute_reply": "2023-07-01T14:38:12.426812Z"
    },
    "papermill": {
     "duration": 1.92846,
     "end_time": "2023-07-01T14:38:12.430600",
     "exception": false,
     "start_time": "2023-07-01T14:38:10.502140",
     "status": "completed"
    },
    "tags": []
   },
   "outputs": [],
   "source": [
    "from sklearn.preprocessing import StandardScaler\n",
    "from sklearn.metrics import roc_auc_score, roc_curve, confusion_matrix, classification_report\n",
    "from sklearn.model_selection import StratifiedKFold,train_test_split,KFold\n",
    "from sklearn.pipeline import Pipeline\n",
    "from sklearn.model_selection import GridSearchCV\n",
    "\n",
    "# Models\n",
    "from xgboost import XGBClassifier\n",
    "from sklearn.multioutput import MultiOutputClassifier\n",
    "from sklearn.ensemble import RandomForestClassifier, HistGradientBoostingClassifier, GradientBoostingClassifier\n",
    "\n",
    "import os\n",
    "import pandas as pd\n",
    "import numpy as np\n",
    "import time\n",
    "\n",
    "\n",
    "import warnings\n",
    "warnings.filterwarnings(\"ignore\")"
   ]
  },
  {
   "cell_type": "code",
   "execution_count": 2,
   "id": "beb655d3",
   "metadata": {
    "execution": {
     "iopub.execute_input": "2023-07-01T14:38:12.438528Z",
     "iopub.status.busy": "2023-07-01T14:38:12.438152Z",
     "iopub.status.idle": "2023-07-01T14:38:12.693924Z",
     "shell.execute_reply": "2023-07-01T14:38:12.692836Z"
    },
    "papermill": {
     "duration": 0.262681,
     "end_time": "2023-07-01T14:38:12.696574",
     "exception": false,
     "start_time": "2023-07-01T14:38:12.433893",
     "status": "completed"
    },
    "tags": []
   },
   "outputs": [],
   "source": [
    "sample_submission = pd.read_csv(\"/kaggle/input/playground-series-s3e18/sample_submission.csv\")\n",
    "test_data = pd.read_csv(\"/kaggle/input/playground-series-s3e18/test.csv\")\n",
    "train_data = pd.read_csv(\"/kaggle/input/playground-series-s3e18/train.csv\")"
   ]
  },
  {
   "cell_type": "code",
   "execution_count": 3,
   "id": "0267bcc4",
   "metadata": {
    "execution": {
     "iopub.execute_input": "2023-07-01T14:38:12.705333Z",
     "iopub.status.busy": "2023-07-01T14:38:12.704377Z",
     "iopub.status.idle": "2023-07-01T14:38:12.721788Z",
     "shell.execute_reply": "2023-07-01T14:38:12.720911Z"
    },
    "papermill": {
     "duration": 0.024161,
     "end_time": "2023-07-01T14:38:12.724048",
     "exception": false,
     "start_time": "2023-07-01T14:38:12.699887",
     "status": "completed"
    },
    "tags": []
   },
   "outputs": [],
   "source": [
    "train_data = train_data.drop(columns=['EC3', 'EC4', 'EC5', 'EC6'], axis=1)"
   ]
  },
  {
   "cell_type": "code",
   "execution_count": 4,
   "id": "da8799b3",
   "metadata": {
    "execution": {
     "iopub.execute_input": "2023-07-01T14:38:12.732644Z",
     "iopub.status.busy": "2023-07-01T14:38:12.731724Z",
     "iopub.status.idle": "2023-07-01T14:38:12.742971Z",
     "shell.execute_reply": "2023-07-01T14:38:12.741833Z"
    },
    "papermill": {
     "duration": 0.018055,
     "end_time": "2023-07-01T14:38:12.745319",
     "exception": false,
     "start_time": "2023-07-01T14:38:12.727264",
     "status": "completed"
    },
    "tags": []
   },
   "outputs": [],
   "source": [
    "y  = train_data[['EC1', 'EC2']]\n",
    "X  = train_data.drop(columns=['EC1', 'EC2'], axis=1)\n",
    "\n",
    "clf = XGBClassifier()\n",
    "pipe = Pipeline([\n",
    "                ('classifier', clf)\n",
    "               ])\n",
    "\n",
    "oof_preds = np.zeros(y.shape)\n",
    "test_preds = np.zeros((test_data.shape[0], y.shape[1]))\n",
    "oof_losses = []\n",
    "\n",
    "kf = KFold(n_splits = 5)"
   ]
  },
  {
   "cell_type": "code",
   "execution_count": 5,
   "id": "dc499d19",
   "metadata": {
    "execution": {
     "iopub.execute_input": "2023-07-01T14:38:12.753236Z",
     "iopub.status.busy": "2023-07-01T14:38:12.752858Z",
     "iopub.status.idle": "2023-07-01T14:38:12.757900Z",
     "shell.execute_reply": "2023-07-01T14:38:12.756782Z"
    },
    "papermill": {
     "duration": 0.011664,
     "end_time": "2023-07-01T14:38:12.760128",
     "exception": false,
     "start_time": "2023-07-01T14:38:12.748464",
     "status": "completed"
    },
    "tags": []
   },
   "outputs": [],
   "source": [
    "data = kf.split(X,y)"
   ]
  },
  {
   "cell_type": "code",
   "execution_count": 6,
   "id": "54c22c00",
   "metadata": {
    "execution": {
     "iopub.execute_input": "2023-07-01T14:38:12.768409Z",
     "iopub.status.busy": "2023-07-01T14:38:12.768058Z",
     "iopub.status.idle": "2023-07-01T14:38:30.161412Z",
     "shell.execute_reply": "2023-07-01T14:38:30.160244Z"
    },
    "papermill": {
     "duration": 17.400303,
     "end_time": "2023-07-01T14:38:30.163879",
     "exception": false,
     "start_time": "2023-07-01T14:38:12.763576",
     "status": "completed"
    },
    "tags": []
   },
   "outputs": [
    {
     "name": "stdout",
     "output_type": "stream",
     "text": [
      "0 Loss =  0.6382214039412171\n",
      "1 Loss =  0.6358259586596453\n",
      "2 Loss =  0.652389624432421\n",
      "3 Loss =  0.6362936414183604\n",
      "4 Loss =  0.6182740612647155\n",
      "Mean Loss:  0.6362009379432718\n"
     ]
    }
   ],
   "source": [
    "for i, (train_index, val_index) in enumerate(data):\n",
    "    x_train_kf, x_val_kf = X.iloc[train_index], X.iloc[val_index]\n",
    "    y_train_kf, y_val_kf = y.iloc[train_index], y.iloc[val_index]\n",
    "    clf.fit(x_train_kf,y_train_kf)\n",
    "    \n",
    "    val_preds = clf.predict_proba(x_val_kf)\n",
    "    val_preds = np.array(val_preds)[:,:]\n",
    "    oof_preds[val_index] = val_preds\n",
    "    \n",
    "    loss = roc_auc_score(np.ravel(y_val_kf), np.ravel(val_preds))\n",
    "    oof_losses.append(loss)\n",
    "    preds = clf.predict_proba(test_data)\n",
    "    preds = np.array(preds)[:,:] \n",
    "    test_preds += preds / 5\n",
    "    \n",
    "    print(i , \"Loss = \",  loss)\n",
    "    \n",
    "    \n",
    "print(\"Mean Loss: \",np.mean(oof_losses))"
   ]
  },
  {
   "cell_type": "code",
   "execution_count": 7,
   "id": "e2c46ba2",
   "metadata": {
    "execution": {
     "iopub.execute_input": "2023-07-01T14:38:30.172577Z",
     "iopub.status.busy": "2023-07-01T14:38:30.172167Z",
     "iopub.status.idle": "2023-07-01T14:38:30.182138Z",
     "shell.execute_reply": "2023-07-01T14:38:30.181027Z"
    },
    "papermill": {
     "duration": 0.016992,
     "end_time": "2023-07-01T14:38:30.184389",
     "exception": false,
     "start_time": "2023-07-01T14:38:30.167397",
     "status": "completed"
    },
    "tags": []
   },
   "outputs": [],
   "source": [
    "submission = sample_submission\n",
    "submission.iloc[:,1:] = test_preds"
   ]
  },
  {
   "cell_type": "code",
   "execution_count": 8,
   "id": "839a9f58",
   "metadata": {
    "execution": {
     "iopub.execute_input": "2023-07-01T14:38:30.193463Z",
     "iopub.status.busy": "2023-07-01T14:38:30.193071Z",
     "iopub.status.idle": "2023-07-01T14:38:30.218197Z",
     "shell.execute_reply": "2023-07-01T14:38:30.217135Z"
    },
    "papermill": {
     "duration": 0.032436,
     "end_time": "2023-07-01T14:38:30.220368",
     "exception": false,
     "start_time": "2023-07-01T14:38:30.187932",
     "status": "completed"
    },
    "tags": []
   },
   "outputs": [
    {
     "data": {
      "text/html": [
       "<div>\n",
       "<style scoped>\n",
       "    .dataframe tbody tr th:only-of-type {\n",
       "        vertical-align: middle;\n",
       "    }\n",
       "\n",
       "    .dataframe tbody tr th {\n",
       "        vertical-align: top;\n",
       "    }\n",
       "\n",
       "    .dataframe thead th {\n",
       "        text-align: right;\n",
       "    }\n",
       "</style>\n",
       "<table border=\"1\" class=\"dataframe\">\n",
       "  <thead>\n",
       "    <tr style=\"text-align: right;\">\n",
       "      <th></th>\n",
       "      <th>id</th>\n",
       "      <th>EC1</th>\n",
       "      <th>EC2</th>\n",
       "    </tr>\n",
       "  </thead>\n",
       "  <tbody>\n",
       "    <tr>\n",
       "      <th>0</th>\n",
       "      <td>14838</td>\n",
       "      <td>0.362125</td>\n",
       "      <td>0.807602</td>\n",
       "    </tr>\n",
       "    <tr>\n",
       "      <th>1</th>\n",
       "      <td>14839</td>\n",
       "      <td>0.851976</td>\n",
       "      <td>0.984866</td>\n",
       "    </tr>\n",
       "    <tr>\n",
       "      <th>2</th>\n",
       "      <td>14840</td>\n",
       "      <td>0.848867</td>\n",
       "      <td>0.821028</td>\n",
       "    </tr>\n",
       "    <tr>\n",
       "      <th>3</th>\n",
       "      <td>14841</td>\n",
       "      <td>0.579888</td>\n",
       "      <td>0.858874</td>\n",
       "    </tr>\n",
       "    <tr>\n",
       "      <th>4</th>\n",
       "      <td>14842</td>\n",
       "      <td>0.886415</td>\n",
       "      <td>0.941610</td>\n",
       "    </tr>\n",
       "    <tr>\n",
       "      <th>...</th>\n",
       "      <td>...</td>\n",
       "      <td>...</td>\n",
       "      <td>...</td>\n",
       "    </tr>\n",
       "    <tr>\n",
       "      <th>9888</th>\n",
       "      <td>24726</td>\n",
       "      <td>0.707756</td>\n",
       "      <td>0.938853</td>\n",
       "    </tr>\n",
       "    <tr>\n",
       "      <th>9889</th>\n",
       "      <td>24727</td>\n",
       "      <td>0.845647</td>\n",
       "      <td>0.935224</td>\n",
       "    </tr>\n",
       "    <tr>\n",
       "      <th>9890</th>\n",
       "      <td>24728</td>\n",
       "      <td>0.280345</td>\n",
       "      <td>0.854974</td>\n",
       "    </tr>\n",
       "    <tr>\n",
       "      <th>9891</th>\n",
       "      <td>24729</td>\n",
       "      <td>0.266548</td>\n",
       "      <td>0.915021</td>\n",
       "    </tr>\n",
       "    <tr>\n",
       "      <th>9892</th>\n",
       "      <td>24730</td>\n",
       "      <td>0.285331</td>\n",
       "      <td>0.914468</td>\n",
       "    </tr>\n",
       "  </tbody>\n",
       "</table>\n",
       "<p>9893 rows × 3 columns</p>\n",
       "</div>"
      ],
      "text/plain": [
       "         id       EC1       EC2\n",
       "0     14838  0.362125  0.807602\n",
       "1     14839  0.851976  0.984866\n",
       "2     14840  0.848867  0.821028\n",
       "3     14841  0.579888  0.858874\n",
       "4     14842  0.886415  0.941610\n",
       "...     ...       ...       ...\n",
       "9888  24726  0.707756  0.938853\n",
       "9889  24727  0.845647  0.935224\n",
       "9890  24728  0.280345  0.854974\n",
       "9891  24729  0.266548  0.915021\n",
       "9892  24730  0.285331  0.914468\n",
       "\n",
       "[9893 rows x 3 columns]"
      ]
     },
     "execution_count": 8,
     "metadata": {},
     "output_type": "execute_result"
    }
   ],
   "source": [
    "submission"
   ]
  },
  {
   "cell_type": "code",
   "execution_count": 9,
   "id": "36c30f6a",
   "metadata": {
    "execution": {
     "iopub.execute_input": "2023-07-01T14:38:30.231091Z",
     "iopub.status.busy": "2023-07-01T14:38:30.230694Z",
     "iopub.status.idle": "2023-07-01T14:38:30.280553Z",
     "shell.execute_reply": "2023-07-01T14:38:30.279312Z"
    },
    "papermill": {
     "duration": 0.057423,
     "end_time": "2023-07-01T14:38:30.283239",
     "exception": false,
     "start_time": "2023-07-01T14:38:30.225816",
     "status": "completed"
    },
    "tags": []
   },
   "outputs": [],
   "source": [
    "submission.to_csv(\"submission.csv\",index=False)"
   ]
  }
 ],
 "metadata": {
  "kernelspec": {
   "display_name": "Python 3",
   "language": "python",
   "name": "python3"
  },
  "language_info": {
   "codemirror_mode": {
    "name": "ipython",
    "version": 3
   },
   "file_extension": ".py",
   "mimetype": "text/x-python",
   "name": "python",
   "nbconvert_exporter": "python",
   "pygments_lexer": "ipython3",
   "version": "3.10.10"
  },
  "papermill": {
   "default_parameters": {},
   "duration": 31.293154,
   "end_time": "2023-07-01T14:38:31.309942",
   "environment_variables": {},
   "exception": null,
   "input_path": "__notebook__.ipynb",
   "output_path": "__notebook__.ipynb",
   "parameters": {},
   "start_time": "2023-07-01T14:38:00.016788",
   "version": "2.4.0"
  }
 },
 "nbformat": 4,
 "nbformat_minor": 5
}
