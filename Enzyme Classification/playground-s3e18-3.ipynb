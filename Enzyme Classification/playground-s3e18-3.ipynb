{
 "cells": [
  {
   "cell_type": "raw",
   "id": "403ca078",
   "metadata": {
    "_cell_guid": "b1076dfc-b9ad-4769-8c92-a6c4dae69d19",
    "_uuid": "8f2839f25d086af736a60e9eeb907d3b93b6e0e5",
    "papermill": {
     "duration": 0.005085,
     "end_time": "2023-07-01T16:27:57.818523",
     "exception": false,
     "start_time": "2023-07-01T16:27:57.813438",
     "status": "completed"
    },
    "tags": []
   },
   "source": [
    "# This Python 3 environment comes with many helpful analytics libraries installed\n",
    "# It is defined by the kaggle/python Docker image: https://github.com/kaggle/docker-python\n",
    "# For example, here's several helpful packages to load\n",
    "\n",
    "import numpy as np # linear algebra\n",
    "import pandas as pd # data processing, CSV file I/O (e.g. pd.read_csv)\n",
    "\n",
    "# Input data files are available in the read-only \"../input/\" directory\n",
    "# For example, running this (by clicking run or pressing Shift+Enter) will list all files under the input directory\n",
    "\n",
    "import os\n",
    "for dirname, _, filenames in os.walk('/kaggle/input'):\n",
    "    for filename in filenames:\n",
    "        print(os.path.join(dirname, filename))\n",
    "\n",
    "# You can write up to 20GB to the current directory (/kaggle/working/) that gets preserved as output when you create a version using \"Save & Run All\" \n",
    "# You can also write temporary files to /kaggle/temp/, but they won't be saved outside of the current session"
   ]
  },
  {
   "cell_type": "code",
   "execution_count": 1,
   "id": "9669cb00",
   "metadata": {
    "execution": {
     "iopub.execute_input": "2023-07-01T16:27:57.829781Z",
     "iopub.status.busy": "2023-07-01T16:27:57.829413Z",
     "iopub.status.idle": "2023-07-01T16:27:59.894469Z",
     "shell.execute_reply": "2023-07-01T16:27:59.893318Z"
    },
    "papermill": {
     "duration": 2.074117,
     "end_time": "2023-07-01T16:27:59.897397",
     "exception": false,
     "start_time": "2023-07-01T16:27:57.823280",
     "status": "completed"
    },
    "tags": []
   },
   "outputs": [],
   "source": [
    "from sklearn.preprocessing import StandardScaler, MaxAbsScaler, MinMaxScaler\n",
    "from sklearn.metrics import roc_auc_score, roc_curve, confusion_matrix, classification_report\n",
    "from sklearn.model_selection import StratifiedKFold,train_test_split,KFold\n",
    "from sklearn.pipeline import Pipeline\n",
    "from sklearn.model_selection import GridSearchCV\n",
    "\n",
    "# Models\n",
    "from xgboost import XGBClassifier\n",
    "from sklearn.multioutput import MultiOutputClassifier\n",
    "from sklearn.ensemble import RandomForestClassifier, HistGradientBoostingClassifier, GradientBoostingClassifier\n",
    "\n",
    "import os\n",
    "import pandas as pd\n",
    "import numpy as np\n",
    "import time\n",
    "\n",
    "\n",
    "import warnings\n",
    "warnings.filterwarnings(\"ignore\")\n",
    "\n",
    "\n",
    "from sklearn.ensemble import RandomForestClassifier\n",
    "from sklearn.svm import LinearSVC\n",
    "from sklearn.linear_model import LogisticRegression\n",
    "from sklearn.preprocessing import StandardScaler\n",
    "from sklearn.pipeline import make_pipeline\n",
    "from sklearn.ensemble import StackingClassifier\n",
    "from sklearn.neighbors import KNeighborsClassifier\n",
    "from sklearn.discriminant_analysis import QuadraticDiscriminantAnalysis\n"
   ]
  },
  {
   "cell_type": "code",
   "execution_count": 2,
   "id": "5b81c1a3",
   "metadata": {
    "execution": {
     "iopub.execute_input": "2023-07-01T16:27:59.908585Z",
     "iopub.status.busy": "2023-07-01T16:27:59.907916Z",
     "iopub.status.idle": "2023-07-01T16:28:00.203569Z",
     "shell.execute_reply": "2023-07-01T16:28:00.200999Z"
    },
    "papermill": {
     "duration": 0.305409,
     "end_time": "2023-07-01T16:28:00.207500",
     "exception": false,
     "start_time": "2023-07-01T16:27:59.902091",
     "status": "completed"
    },
    "tags": []
   },
   "outputs": [],
   "source": [
    "sample_submission = pd.read_csv(\"/kaggle/input/playground-series-s3e18/sample_submission.csv\")\n",
    "test_data = pd.read_csv(\"/kaggle/input/playground-series-s3e18/test.csv\")\n",
    "train_data = pd.read_csv(\"/kaggle/input/playground-series-s3e18/train.csv\")"
   ]
  },
  {
   "cell_type": "code",
   "execution_count": 3,
   "id": "7d14f8b6",
   "metadata": {
    "execution": {
     "iopub.execute_input": "2023-07-01T16:28:00.220907Z",
     "iopub.status.busy": "2023-07-01T16:28:00.220357Z",
     "iopub.status.idle": "2023-07-01T16:28:00.243602Z",
     "shell.execute_reply": "2023-07-01T16:28:00.242708Z"
    },
    "papermill": {
     "duration": 0.03283,
     "end_time": "2023-07-01T16:28:00.246572",
     "exception": false,
     "start_time": "2023-07-01T16:28:00.213742",
     "status": "completed"
    },
    "tags": []
   },
   "outputs": [],
   "source": [
    "train_data = train_data.drop(columns=['EC3', 'EC4', 'EC5', 'EC6'], axis=1)"
   ]
  },
  {
   "cell_type": "code",
   "execution_count": 4,
   "id": "fc602c7f",
   "metadata": {
    "execution": {
     "iopub.execute_input": "2023-07-01T16:28:00.260441Z",
     "iopub.status.busy": "2023-07-01T16:28:00.260084Z",
     "iopub.status.idle": "2023-07-01T16:28:00.276850Z",
     "shell.execute_reply": "2023-07-01T16:28:00.275529Z"
    },
    "papermill": {
     "duration": 0.028825,
     "end_time": "2023-07-01T16:28:00.281632",
     "exception": false,
     "start_time": "2023-07-01T16:28:00.252807",
     "status": "completed"
    },
    "tags": []
   },
   "outputs": [],
   "source": [
    "y1  = train_data[['EC1']]\n",
    "y2  = train_data[['EC2']]\n",
    "\n",
    "X  = train_data.drop(columns=['EC1', 'EC2'], axis=1)\n",
    "\n",
    "xgb = XGBClassifier()\n",
    "\n",
    "estimators = [\n",
    "    ('xgb',XGBClassifier()),\n",
    "    ('rf', RandomForestClassifier(n_estimators=1000, random_state=2)),\n",
    "    ('svr',make_pipeline(StandardScaler(),LinearSVC(random_state=2,max_iter=500)))\n",
    "]\n",
    "\n",
    "clf = StackingClassifier(\n",
    "    estimators=estimators, final_estimator=KNeighborsClassifier(n_neighbors=75)\n",
    ")\n",
    "\n",
    "oof_preds1 = np.zeros(y1.shape)\n",
    "oof_preds2 = np.zeros(y2.shape)\n",
    "\n",
    "\n",
    "test_preds1 = np.zeros((test_data.shape[0], y1.shape[1]))\n",
    "test_preds2 = np.zeros((test_data.shape[0], y2.shape[1]))\n",
    "\n",
    "\n",
    "oof_scores1 = []\n",
    "oof_scores2 = []\n",
    "\n",
    "\n",
    "kf = KFold(n_splits = 5)"
   ]
  },
  {
   "cell_type": "code",
   "execution_count": 5,
   "id": "a55aee9e",
   "metadata": {
    "execution": {
     "iopub.execute_input": "2023-07-01T16:28:00.292597Z",
     "iopub.status.busy": "2023-07-01T16:28:00.291988Z",
     "iopub.status.idle": "2023-07-01T16:28:00.300145Z",
     "shell.execute_reply": "2023-07-01T16:28:00.299166Z"
    },
    "papermill": {
     "duration": 0.016306,
     "end_time": "2023-07-01T16:28:00.302626",
     "exception": false,
     "start_time": "2023-07-01T16:28:00.286320",
     "status": "completed"
    },
    "tags": []
   },
   "outputs": [
    {
     "data": {
      "text/plain": [
       "(9893, 1)"
      ]
     },
     "execution_count": 5,
     "metadata": {},
     "output_type": "execute_result"
    }
   ],
   "source": [
    "test_preds1.shape"
   ]
  },
  {
   "cell_type": "markdown",
   "id": "9710506d",
   "metadata": {
    "papermill": {
     "duration": 0.004325,
     "end_time": "2023-07-01T16:28:00.311568",
     "exception": false,
     "start_time": "2023-07-01T16:28:00.307243",
     "status": "completed"
    },
    "tags": []
   },
   "source": [
    "### *EC 1*"
   ]
  },
  {
   "cell_type": "code",
   "execution_count": 6,
   "id": "c6a1b611",
   "metadata": {
    "execution": {
     "iopub.execute_input": "2023-07-01T16:28:00.322799Z",
     "iopub.status.busy": "2023-07-01T16:28:00.321728Z",
     "iopub.status.idle": "2023-07-01T16:49:27.461389Z",
     "shell.execute_reply": "2023-07-01T16:49:27.460044Z"
    },
    "papermill": {
     "duration": 1287.153321,
     "end_time": "2023-07-01T16:49:27.469232",
     "exception": false,
     "start_time": "2023-07-01T16:28:00.315911",
     "status": "completed"
    },
    "tags": []
   },
   "outputs": [
    {
     "name": "stdout",
     "output_type": "stream",
     "text": [
      "0 Score =  0.6918504566141294\n",
      "1 Score =  0.6921225057719262\n",
      "2 Score =  0.6885828087857363\n",
      "3 Score =  0.6948607635276364\n",
      "4 Score =  0.6606501662167631\n",
      "Mean Score:  0.6856133401832383\n"
     ]
    }
   ],
   "source": [
    "data = kf.split(X,y1)\n",
    "\n",
    "for i, (train_index, val_index) in enumerate(data):\n",
    "    \n",
    "    \n",
    "    x_train_kf, x_val_kf = X.iloc[train_index], X.iloc[val_index]\n",
    "    y_train_kf, y_val_kf = y1.iloc[train_index], y1.iloc[val_index]\n",
    "    \n",
    "    clf.fit(x_train_kf,y_train_kf)\n",
    "    \n",
    "    val_preds = clf.predict_proba(x_val_kf)\n",
    "    val_preds = np.array(val_preds)[:,1]\n",
    "    val_preds = val_preds.reshape(val_preds.shape[0],1)\n",
    "    oof_preds1[val_index] = val_preds\n",
    "    \n",
    "    score = roc_auc_score(np.ravel(y_val_kf), np.ravel(val_preds))\n",
    "    oof_scores1.append(score)\n",
    "    preds = clf.predict_proba(test_data)\n",
    "    preds = np.array(preds)[:,1] \n",
    "    preds = preds.reshape(preds.shape[0],1)\n",
    "    test_preds1 += preds / 5\n",
    "    \n",
    "    print(i , \"Score = \",  score)\n",
    "    \n",
    "    \n",
    "print(\"Mean Score: \",np.mean(oof_scores1))\n"
   ]
  },
  {
   "cell_type": "markdown",
   "id": "376123a4",
   "metadata": {
    "papermill": {
     "duration": 0.005185,
     "end_time": "2023-07-01T16:49:27.479638",
     "exception": false,
     "start_time": "2023-07-01T16:49:27.474453",
     "status": "completed"
    },
    "tags": []
   },
   "source": [
    "## *EC 2*"
   ]
  },
  {
   "cell_type": "code",
   "execution_count": 7,
   "id": "b898e420",
   "metadata": {
    "execution": {
     "iopub.execute_input": "2023-07-01T16:49:27.492001Z",
     "iopub.status.busy": "2023-07-01T16:49:27.491551Z",
     "iopub.status.idle": "2023-07-01T17:12:58.201296Z",
     "shell.execute_reply": "2023-07-01T17:12:58.200136Z"
    },
    "papermill": {
     "duration": 1410.724077,
     "end_time": "2023-07-01T17:12:58.208863",
     "exception": false,
     "start_time": "2023-07-01T16:49:27.484786",
     "status": "completed"
    },
    "tags": []
   },
   "outputs": [
    {
     "name": "stdout",
     "output_type": "stream",
     "text": [
      "0 Score =  0.5781758827108541\n",
      "1 Score =  0.559884936701496\n",
      "2 Score =  0.5677994791666667\n",
      "3 Score =  0.5626183127572016\n",
      "4 Score =  0.550097928721635\n",
      "Mean Score:  0.5637153080115708\n"
     ]
    }
   ],
   "source": [
    "data = kf.split(X,y2)\n",
    "for i, (train_index, val_index) in enumerate(data):\n",
    "    x_train_kf, x_val_kf = X.iloc[train_index], X.iloc[val_index]\n",
    "    y_train_kf, y_val_kf = y2.iloc[train_index], y2.iloc[val_index]\n",
    "    clf.fit(x_train_kf,y_train_kf)\n",
    "    \n",
    "    val_preds = clf.predict_proba(x_val_kf)\n",
    "    val_preds = np.array(val_preds)[:,1]\n",
    "    val_preds = val_preds.reshape(val_preds.shape[0],1)\n",
    "    oof_preds2[val_index] = val_preds\n",
    "    \n",
    "    score = roc_auc_score(np.ravel(y_val_kf), np.ravel(val_preds))\n",
    "    oof_scores2.append(score)\n",
    "    preds = clf.predict_proba(test_data)\n",
    "    preds = np.array(preds)[:,1] \n",
    "    preds = preds.reshape(preds.shape[0],1)\n",
    "    test_preds2 += preds / 5\n",
    "    \n",
    "    print(i , \"Score = \",  score)\n",
    "    \n",
    "    \n",
    "print(\"Mean Score: \",np.mean(oof_scores2))"
   ]
  },
  {
   "cell_type": "code",
   "execution_count": 8,
   "id": "e3e3ccf7",
   "metadata": {
    "execution": {
     "iopub.execute_input": "2023-07-01T17:12:58.222009Z",
     "iopub.status.busy": "2023-07-01T17:12:58.221253Z",
     "iopub.status.idle": "2023-07-01T17:12:58.226923Z",
     "shell.execute_reply": "2023-07-01T17:12:58.225995Z"
    },
    "papermill": {
     "duration": 0.014551,
     "end_time": "2023-07-01T17:12:58.229068",
     "exception": false,
     "start_time": "2023-07-01T17:12:58.214517",
     "status": "completed"
    },
    "tags": []
   },
   "outputs": [],
   "source": [
    "submission = sample_submission\n",
    "submission['EC1'] = test_preds1\n",
    "submission['EC2'] = test_preds2"
   ]
  },
  {
   "cell_type": "code",
   "execution_count": 9,
   "id": "530e8e3b",
   "metadata": {
    "execution": {
     "iopub.execute_input": "2023-07-01T17:12:58.241119Z",
     "iopub.status.busy": "2023-07-01T17:12:58.240833Z",
     "iopub.status.idle": "2023-07-01T17:12:58.266581Z",
     "shell.execute_reply": "2023-07-01T17:12:58.265422Z"
    },
    "papermill": {
     "duration": 0.034753,
     "end_time": "2023-07-01T17:12:58.269043",
     "exception": false,
     "start_time": "2023-07-01T17:12:58.234290",
     "status": "completed"
    },
    "tags": []
   },
   "outputs": [
    {
     "data": {
      "text/html": [
       "<div>\n",
       "<style scoped>\n",
       "    .dataframe tbody tr th:only-of-type {\n",
       "        vertical-align: middle;\n",
       "    }\n",
       "\n",
       "    .dataframe tbody tr th {\n",
       "        vertical-align: top;\n",
       "    }\n",
       "\n",
       "    .dataframe thead th {\n",
       "        text-align: right;\n",
       "    }\n",
       "</style>\n",
       "<table border=\"1\" class=\"dataframe\">\n",
       "  <thead>\n",
       "    <tr style=\"text-align: right;\">\n",
       "      <th></th>\n",
       "      <th>id</th>\n",
       "      <th>EC1</th>\n",
       "      <th>EC2</th>\n",
       "    </tr>\n",
       "  </thead>\n",
       "  <tbody>\n",
       "    <tr>\n",
       "      <th>0</th>\n",
       "      <td>14838</td>\n",
       "      <td>0.408000</td>\n",
       "      <td>0.757333</td>\n",
       "    </tr>\n",
       "    <tr>\n",
       "      <th>1</th>\n",
       "      <td>14839</td>\n",
       "      <td>0.837333</td>\n",
       "      <td>0.749333</td>\n",
       "    </tr>\n",
       "    <tr>\n",
       "      <th>2</th>\n",
       "      <td>14840</td>\n",
       "      <td>0.680000</td>\n",
       "      <td>0.728000</td>\n",
       "    </tr>\n",
       "    <tr>\n",
       "      <th>3</th>\n",
       "      <td>14841</td>\n",
       "      <td>0.781333</td>\n",
       "      <td>0.808000</td>\n",
       "    </tr>\n",
       "    <tr>\n",
       "      <th>4</th>\n",
       "      <td>14842</td>\n",
       "      <td>0.789333</td>\n",
       "      <td>0.768000</td>\n",
       "    </tr>\n",
       "    <tr>\n",
       "      <th>...</th>\n",
       "      <td>...</td>\n",
       "      <td>...</td>\n",
       "      <td>...</td>\n",
       "    </tr>\n",
       "    <tr>\n",
       "      <th>9888</th>\n",
       "      <td>24726</td>\n",
       "      <td>0.642667</td>\n",
       "      <td>0.760000</td>\n",
       "    </tr>\n",
       "    <tr>\n",
       "      <th>9889</th>\n",
       "      <td>24727</td>\n",
       "      <td>0.802667</td>\n",
       "      <td>0.824000</td>\n",
       "    </tr>\n",
       "    <tr>\n",
       "      <th>9890</th>\n",
       "      <td>24728</td>\n",
       "      <td>0.485333</td>\n",
       "      <td>0.829333</td>\n",
       "    </tr>\n",
       "    <tr>\n",
       "      <th>9891</th>\n",
       "      <td>24729</td>\n",
       "      <td>0.512000</td>\n",
       "      <td>0.818667</td>\n",
       "    </tr>\n",
       "    <tr>\n",
       "      <th>9892</th>\n",
       "      <td>24730</td>\n",
       "      <td>0.352000</td>\n",
       "      <td>0.837333</td>\n",
       "    </tr>\n",
       "  </tbody>\n",
       "</table>\n",
       "<p>9893 rows × 3 columns</p>\n",
       "</div>"
      ],
      "text/plain": [
       "         id       EC1       EC2\n",
       "0     14838  0.408000  0.757333\n",
       "1     14839  0.837333  0.749333\n",
       "2     14840  0.680000  0.728000\n",
       "3     14841  0.781333  0.808000\n",
       "4     14842  0.789333  0.768000\n",
       "...     ...       ...       ...\n",
       "9888  24726  0.642667  0.760000\n",
       "9889  24727  0.802667  0.824000\n",
       "9890  24728  0.485333  0.829333\n",
       "9891  24729  0.512000  0.818667\n",
       "9892  24730  0.352000  0.837333\n",
       "\n",
       "[9893 rows x 3 columns]"
      ]
     },
     "execution_count": 9,
     "metadata": {},
     "output_type": "execute_result"
    }
   ],
   "source": [
    "submission"
   ]
  },
  {
   "cell_type": "code",
   "execution_count": 10,
   "id": "b5c4eaad",
   "metadata": {
    "execution": {
     "iopub.execute_input": "2023-07-01T17:12:58.282890Z",
     "iopub.status.busy": "2023-07-01T17:12:58.281902Z",
     "iopub.status.idle": "2023-07-01T17:12:58.345666Z",
     "shell.execute_reply": "2023-07-01T17:12:58.344585Z"
    },
    "papermill": {
     "duration": 0.074142,
     "end_time": "2023-07-01T17:12:58.349177",
     "exception": false,
     "start_time": "2023-07-01T17:12:58.275035",
     "status": "completed"
    },
    "tags": []
   },
   "outputs": [],
   "source": [
    "submission.to_csv(\"submission.csv\",index=False)"
   ]
  }
 ],
 "metadata": {
  "kernelspec": {
   "display_name": "Python 3",
   "language": "python",
   "name": "python3"
  },
  "language_info": {
   "codemirror_mode": {
    "name": "ipython",
    "version": 3
   },
   "file_extension": ".py",
   "mimetype": "text/x-python",
   "name": "python",
   "nbconvert_exporter": "python",
   "pygments_lexer": "ipython3",
   "version": "3.10.10"
  },
  "papermill": {
   "default_parameters": {},
   "duration": 2714.692742,
   "end_time": "2023-07-01T17:12:59.281403",
   "environment_variables": {},
   "exception": null,
   "input_path": "__notebook__.ipynb",
   "output_path": "__notebook__.ipynb",
   "parameters": {},
   "start_time": "2023-07-01T16:27:44.588661",
   "version": "2.4.0"
  }
 },
 "nbformat": 4,
 "nbformat_minor": 5
}
