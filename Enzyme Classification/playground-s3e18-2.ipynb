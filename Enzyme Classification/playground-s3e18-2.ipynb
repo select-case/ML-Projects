{
 "cells": [
  {
   "cell_type": "code",
   "execution_count": 1,
   "id": "6f094e54",
   "metadata": {
    "_cell_guid": "b1076dfc-b9ad-4769-8c92-a6c4dae69d19",
    "_uuid": "8f2839f25d086af736a60e9eeb907d3b93b6e0e5",
    "execution": {
     "iopub.execute_input": "2023-06-30T16:52:00.170315Z",
     "iopub.status.busy": "2023-06-30T16:52:00.169761Z",
     "iopub.status.idle": "2023-06-30T16:52:00.189311Z",
     "shell.execute_reply": "2023-06-30T16:52:00.188238Z"
    },
    "papermill": {
     "duration": 0.031342,
     "end_time": "2023-06-30T16:52:00.191702",
     "exception": false,
     "start_time": "2023-06-30T16:52:00.160360",
     "status": "completed"
    },
    "tags": []
   },
   "outputs": [
    {
     "name": "stdout",
     "output_type": "stream",
     "text": [
      "/kaggle/input/playground-series-s3e18/sample_submission.csv\n",
      "/kaggle/input/playground-series-s3e18/train.csv\n",
      "/kaggle/input/playground-series-s3e18/test.csv\n"
     ]
    }
   ],
   "source": [
    "# This Python 3 environment comes with many helpful analytics libraries installed\n",
    "# It is defined by the kaggle/python Docker image: https://github.com/kaggle/docker-python\n",
    "# For example, here's several helpful packages to load\n",
    "\n",
    "import numpy as np # linear algebra\n",
    "import pandas as pd # data processing, CSV file I/O (e.g. pd.read_csv)\n",
    "\n",
    "# Input data files are available in the read-only \"../input/\" directory\n",
    "# For example, running this (by clicking run or pressing Shift+Enter) will list all files under the input directory\n",
    "\n",
    "import os\n",
    "for dirname, _, filenames in os.walk('/kaggle/input'):\n",
    "    for filename in filenames:\n",
    "        print(os.path.join(dirname, filename))\n",
    "\n",
    "# You can write up to 20GB to the current directory (/kaggle/working/) that gets preserved as output when you create a version using \"Save & Run All\" \n",
    "# You can also write temporary files to /kaggle/temp/, but they won't be saved outside of the current session"
   ]
  },
  {
   "cell_type": "code",
   "execution_count": 2,
   "id": "f6ad1543",
   "metadata": {
    "execution": {
     "iopub.execute_input": "2023-06-30T16:52:00.208056Z",
     "iopub.status.busy": "2023-06-30T16:52:00.207401Z",
     "iopub.status.idle": "2023-06-30T16:52:14.757312Z",
     "shell.execute_reply": "2023-06-30T16:52:14.756210Z"
    },
    "papermill": {
     "duration": 14.561237,
     "end_time": "2023-06-30T16:52:14.760118",
     "exception": false,
     "start_time": "2023-06-30T16:52:00.198881",
     "status": "completed"
    },
    "tags": []
   },
   "outputs": [
    {
     "name": "stdout",
     "output_type": "stream",
     "text": [
      "Requirement already satisfied: fastai in /opt/conda/lib/python3.10/site-packages (2.7.12)\r\n",
      "Requirement already satisfied: pip in /opt/conda/lib/python3.10/site-packages (from fastai) (23.1.2)\r\n",
      "Requirement already satisfied: packaging in /opt/conda/lib/python3.10/site-packages (from fastai) (21.3)\r\n",
      "Requirement already satisfied: fastdownload<2,>=0.0.5 in /opt/conda/lib/python3.10/site-packages (from fastai) (0.0.7)\r\n",
      "Requirement already satisfied: fastcore<1.6,>=1.5.29 in /opt/conda/lib/python3.10/site-packages (from fastai) (1.5.29)\r\n",
      "Requirement already satisfied: torchvision>=0.8.2 in /opt/conda/lib/python3.10/site-packages (from fastai) (0.15.1+cpu)\r\n",
      "Requirement already satisfied: matplotlib in /opt/conda/lib/python3.10/site-packages (from fastai) (3.6.3)\r\n",
      "Requirement already satisfied: pandas in /opt/conda/lib/python3.10/site-packages (from fastai) (1.5.3)\r\n",
      "Requirement already satisfied: requests in /opt/conda/lib/python3.10/site-packages (from fastai) (2.28.2)\r\n",
      "Requirement already satisfied: pyyaml in /opt/conda/lib/python3.10/site-packages (from fastai) (5.4.1)\r\n",
      "Requirement already satisfied: fastprogress>=0.2.4 in /opt/conda/lib/python3.10/site-packages (from fastai) (1.0.3)\r\n",
      "Requirement already satisfied: pillow>6.0.0 in /opt/conda/lib/python3.10/site-packages (from fastai) (9.5.0)\r\n",
      "Requirement already satisfied: scikit-learn in /opt/conda/lib/python3.10/site-packages (from fastai) (1.2.2)\r\n",
      "Requirement already satisfied: scipy in /opt/conda/lib/python3.10/site-packages (from fastai) (1.10.1)\r\n",
      "Requirement already satisfied: spacy<4 in /opt/conda/lib/python3.10/site-packages (from fastai) (3.5.3)\r\n",
      "Requirement already satisfied: torch<2.1,>=1.7 in /opt/conda/lib/python3.10/site-packages (from fastai) (2.0.0+cpu)\r\n",
      "Requirement already satisfied: spacy-legacy<3.1.0,>=3.0.11 in /opt/conda/lib/python3.10/site-packages (from spacy<4->fastai) (3.0.12)\r\n",
      "Requirement already satisfied: spacy-loggers<2.0.0,>=1.0.0 in /opt/conda/lib/python3.10/site-packages (from spacy<4->fastai) (1.0.4)\r\n",
      "Requirement already satisfied: murmurhash<1.1.0,>=0.28.0 in /opt/conda/lib/python3.10/site-packages (from spacy<4->fastai) (1.0.9)\r\n",
      "Requirement already satisfied: cymem<2.1.0,>=2.0.2 in /opt/conda/lib/python3.10/site-packages (from spacy<4->fastai) (2.0.7)\r\n",
      "Requirement already satisfied: preshed<3.1.0,>=3.0.2 in /opt/conda/lib/python3.10/site-packages (from spacy<4->fastai) (3.0.8)\r\n",
      "Requirement already satisfied: thinc<8.2.0,>=8.1.8 in /opt/conda/lib/python3.10/site-packages (from spacy<4->fastai) (8.1.10)\r\n",
      "Requirement already satisfied: wasabi<1.2.0,>=0.9.1 in /opt/conda/lib/python3.10/site-packages (from spacy<4->fastai) (1.1.2)\r\n",
      "Requirement already satisfied: srsly<3.0.0,>=2.4.3 in /opt/conda/lib/python3.10/site-packages (from spacy<4->fastai) (2.4.6)\r\n",
      "Requirement already satisfied: catalogue<2.1.0,>=2.0.6 in /opt/conda/lib/python3.10/site-packages (from spacy<4->fastai) (2.0.8)\r\n",
      "Requirement already satisfied: typer<0.8.0,>=0.3.0 in /opt/conda/lib/python3.10/site-packages (from spacy<4->fastai) (0.7.0)\r\n",
      "Requirement already satisfied: pathy>=0.10.0 in /opt/conda/lib/python3.10/site-packages (from spacy<4->fastai) (0.10.1)\r\n",
      "Requirement already satisfied: smart-open<7.0.0,>=5.2.1 in /opt/conda/lib/python3.10/site-packages (from spacy<4->fastai) (6.3.0)\r\n",
      "Requirement already satisfied: tqdm<5.0.0,>=4.38.0 in /opt/conda/lib/python3.10/site-packages (from spacy<4->fastai) (4.64.1)\r\n",
      "Requirement already satisfied: numpy>=1.15.0 in /opt/conda/lib/python3.10/site-packages (from spacy<4->fastai) (1.23.5)\r\n",
      "Requirement already satisfied: pydantic!=1.8,!=1.8.1,<1.11.0,>=1.7.4 in /opt/conda/lib/python3.10/site-packages (from spacy<4->fastai) (1.10.7)\r\n",
      "Requirement already satisfied: jinja2 in /opt/conda/lib/python3.10/site-packages (from spacy<4->fastai) (3.1.2)\r\n",
      "Requirement already satisfied: setuptools in /opt/conda/lib/python3.10/site-packages (from spacy<4->fastai) (59.8.0)\r\n",
      "Requirement already satisfied: langcodes<4.0.0,>=3.2.0 in /opt/conda/lib/python3.10/site-packages (from spacy<4->fastai) (3.3.0)\r\n",
      "Requirement already satisfied: pyparsing!=3.0.5,>=2.0.2 in /opt/conda/lib/python3.10/site-packages (from packaging->fastai) (3.0.9)\r\n",
      "Requirement already satisfied: charset-normalizer<4,>=2 in /opt/conda/lib/python3.10/site-packages (from requests->fastai) (2.1.1)\r\n",
      "Requirement already satisfied: idna<4,>=2.5 in /opt/conda/lib/python3.10/site-packages (from requests->fastai) (3.4)\r\n",
      "Requirement already satisfied: urllib3<1.27,>=1.21.1 in /opt/conda/lib/python3.10/site-packages (from requests->fastai) (1.26.15)\r\n",
      "Requirement already satisfied: certifi>=2017.4.17 in /opt/conda/lib/python3.10/site-packages (from requests->fastai) (2023.5.7)\r\n",
      "Requirement already satisfied: filelock in /opt/conda/lib/python3.10/site-packages (from torch<2.1,>=1.7->fastai) (3.12.0)\r\n",
      "Requirement already satisfied: typing-extensions in /opt/conda/lib/python3.10/site-packages (from torch<2.1,>=1.7->fastai) (4.5.0)\r\n",
      "Requirement already satisfied: sympy in /opt/conda/lib/python3.10/site-packages (from torch<2.1,>=1.7->fastai) (1.12)\r\n",
      "Requirement already satisfied: networkx in /opt/conda/lib/python3.10/site-packages (from torch<2.1,>=1.7->fastai) (3.1)\r\n",
      "Requirement already satisfied: contourpy>=1.0.1 in /opt/conda/lib/python3.10/site-packages (from matplotlib->fastai) (1.0.7)\r\n",
      "Requirement already satisfied: cycler>=0.10 in /opt/conda/lib/python3.10/site-packages (from matplotlib->fastai) (0.11.0)\r\n",
      "Requirement already satisfied: fonttools>=4.22.0 in /opt/conda/lib/python3.10/site-packages (from matplotlib->fastai) (4.39.3)\r\n",
      "Requirement already satisfied: kiwisolver>=1.0.1 in /opt/conda/lib/python3.10/site-packages (from matplotlib->fastai) (1.4.4)\r\n",
      "Requirement already satisfied: python-dateutil>=2.7 in /opt/conda/lib/python3.10/site-packages (from matplotlib->fastai) (2.8.2)\r\n",
      "Requirement already satisfied: pytz>=2020.1 in /opt/conda/lib/python3.10/site-packages (from pandas->fastai) (2023.3)\r\n",
      "Requirement already satisfied: joblib>=1.1.1 in /opt/conda/lib/python3.10/site-packages (from scikit-learn->fastai) (1.2.0)\r\n",
      "Requirement already satisfied: threadpoolctl>=2.0.0 in /opt/conda/lib/python3.10/site-packages (from scikit-learn->fastai) (3.1.0)\r\n",
      "Requirement already satisfied: six>=1.5 in /opt/conda/lib/python3.10/site-packages (from python-dateutil>=2.7->matplotlib->fastai) (1.16.0)\r\n",
      "Requirement already satisfied: blis<0.8.0,>=0.7.8 in /opt/conda/lib/python3.10/site-packages (from thinc<8.2.0,>=8.1.8->spacy<4->fastai) (0.7.9)\r\n",
      "Requirement already satisfied: confection<1.0.0,>=0.0.1 in /opt/conda/lib/python3.10/site-packages (from thinc<8.2.0,>=8.1.8->spacy<4->fastai) (0.0.4)\r\n",
      "Requirement already satisfied: click<9.0.0,>=7.1.1 in /opt/conda/lib/python3.10/site-packages (from typer<0.8.0,>=0.3.0->spacy<4->fastai) (8.1.3)\r\n",
      "Requirement already satisfied: MarkupSafe>=2.0 in /opt/conda/lib/python3.10/site-packages (from jinja2->spacy<4->fastai) (2.1.2)\r\n",
      "Requirement already satisfied: mpmath>=0.19 in /opt/conda/lib/python3.10/site-packages (from sympy->torch<2.1,>=1.7->fastai) (1.3.0)\r\n",
      "\u001b[33mWARNING: Running pip as the 'root' user can result in broken permissions and conflicting behaviour with the system package manager. It is recommended to use a virtual environment instead: https://pip.pypa.io/warnings/venv\u001b[0m\u001b[33m\r\n",
      "\u001b[0m"
     ]
    }
   ],
   "source": [
    "!pip install fastai"
   ]
  },
  {
   "cell_type": "code",
   "execution_count": 3,
   "id": "5378226e",
   "metadata": {
    "execution": {
     "iopub.execute_input": "2023-06-30T16:52:14.778395Z",
     "iopub.status.busy": "2023-06-30T16:52:14.777996Z",
     "iopub.status.idle": "2023-06-30T16:52:19.936279Z",
     "shell.execute_reply": "2023-06-30T16:52:19.934887Z"
    },
    "papermill": {
     "duration": 5.17082,
     "end_time": "2023-06-30T16:52:19.939154",
     "exception": false,
     "start_time": "2023-06-30T16:52:14.768334",
     "status": "completed"
    },
    "tags": []
   },
   "outputs": [],
   "source": [
    "from fastai.tabular.all import *"
   ]
  },
  {
   "cell_type": "code",
   "execution_count": 4,
   "id": "87f44c89",
   "metadata": {
    "execution": {
     "iopub.execute_input": "2023-06-30T16:52:19.958463Z",
     "iopub.status.busy": "2023-06-30T16:52:19.957503Z",
     "iopub.status.idle": "2023-06-30T16:52:20.246569Z",
     "shell.execute_reply": "2023-06-30T16:52:20.245618Z"
    },
    "papermill": {
     "duration": 0.301848,
     "end_time": "2023-06-30T16:52:20.249318",
     "exception": false,
     "start_time": "2023-06-30T16:52:19.947470",
     "status": "completed"
    },
    "tags": []
   },
   "outputs": [],
   "source": [
    "train_data = pd.read_csv('/kaggle/input/playground-series-s3e18/train.csv')\n",
    "test_data = pd.read_csv('/kaggle/input/playground-series-s3e18/test.csv')\n",
    "sub_df = pd.read_csv('/kaggle/input/playground-series-s3e18/sample_submission.csv')"
   ]
  },
  {
   "cell_type": "code",
   "execution_count": 5,
   "id": "14f58aaa",
   "metadata": {
    "execution": {
     "iopub.execute_input": "2023-06-30T16:52:20.269396Z",
     "iopub.status.busy": "2023-06-30T16:52:20.268974Z",
     "iopub.status.idle": "2023-06-30T16:52:20.288022Z",
     "shell.execute_reply": "2023-06-30T16:52:20.286854Z"
    },
    "papermill": {
     "duration": 0.033129,
     "end_time": "2023-06-30T16:52:20.290649",
     "exception": false,
     "start_time": "2023-06-30T16:52:20.257520",
     "status": "completed"
    },
    "tags": []
   },
   "outputs": [],
   "source": [
    "train_data = train_data[train_data.columns[1:34]]\n",
    "test_data = test_data[test_data.columns[1:]]"
   ]
  },
  {
   "cell_type": "code",
   "execution_count": 6,
   "id": "ce364859",
   "metadata": {
    "execution": {
     "iopub.execute_input": "2023-06-30T16:52:20.308549Z",
     "iopub.status.busy": "2023-06-30T16:52:20.308172Z",
     "iopub.status.idle": "2023-06-30T16:52:20.312703Z",
     "shell.execute_reply": "2023-06-30T16:52:20.311591Z"
    },
    "papermill": {
     "duration": 0.015881,
     "end_time": "2023-06-30T16:52:20.314839",
     "exception": false,
     "start_time": "2023-06-30T16:52:20.298958",
     "status": "completed"
    },
    "tags": []
   },
   "outputs": [],
   "source": [
    "# EC_12 = train_data[['EC1','EC2']]\n",
    "# train_data = train_data[train_data.columns[0:31]]"
   ]
  },
  {
   "cell_type": "code",
   "execution_count": 7,
   "id": "c5f77b6a",
   "metadata": {
    "execution": {
     "iopub.execute_input": "2023-06-30T16:52:20.333340Z",
     "iopub.status.busy": "2023-06-30T16:52:20.332690Z",
     "iopub.status.idle": "2023-06-30T16:52:20.340289Z",
     "shell.execute_reply": "2023-06-30T16:52:20.339543Z"
    },
    "papermill": {
     "duration": 0.018992,
     "end_time": "2023-06-30T16:52:20.342414",
     "exception": false,
     "start_time": "2023-06-30T16:52:20.323422",
     "status": "completed"
    },
    "tags": []
   },
   "outputs": [
    {
     "data": {
      "text/plain": [
       "Index(['BertzCT', 'Chi1', 'Chi1n', 'Chi1v', 'Chi2n', 'Chi2v', 'Chi3v', 'Chi4n',\n",
       "       'EState_VSA1', 'EState_VSA2', 'ExactMolWt', 'FpDensityMorgan1',\n",
       "       'FpDensityMorgan2', 'FpDensityMorgan3', 'HallKierAlpha',\n",
       "       'HeavyAtomMolWt', 'Kappa3', 'MaxAbsEStateIndex', 'MinEStateIndex',\n",
       "       'NumHeteroatoms', 'PEOE_VSA10', 'PEOE_VSA14', 'PEOE_VSA6', 'PEOE_VSA7',\n",
       "       'PEOE_VSA8', 'SMR_VSA10', 'SMR_VSA5', 'SlogP_VSA3', 'VSA_EState9',\n",
       "       'fr_COO', 'fr_COO2', 'EC1', 'EC2'],\n",
       "      dtype='object')"
      ]
     },
     "execution_count": 7,
     "metadata": {},
     "output_type": "execute_result"
    }
   ],
   "source": [
    "train_data.columns"
   ]
  },
  {
   "cell_type": "code",
   "execution_count": 8,
   "id": "af595037",
   "metadata": {
    "execution": {
     "iopub.execute_input": "2023-06-30T16:52:20.361072Z",
     "iopub.status.busy": "2023-06-30T16:52:20.360674Z",
     "iopub.status.idle": "2023-06-30T16:52:20.497027Z",
     "shell.execute_reply": "2023-06-30T16:52:20.495924Z"
    },
    "papermill": {
     "duration": 0.149111,
     "end_time": "2023-06-30T16:52:20.499870",
     "exception": false,
     "start_time": "2023-06-30T16:52:20.350759",
     "status": "completed"
    },
    "tags": []
   },
   "outputs": [],
   "source": [
    "dls = TabularDataLoaders.from_df(train_data,\n",
    "                             procs= [Normalize], \n",
    "                             cont_names=['BertzCT', 'Chi1', 'Chi1n', 'Chi1v', 'Chi2n', 'Chi2v', 'Chi3v', 'Chi4n',\n",
    "       'EState_VSA1', 'EState_VSA2', 'ExactMolWt', 'FpDensityMorgan1',\n",
    "       'FpDensityMorgan2', 'FpDensityMorgan3', 'HallKierAlpha',\n",
    "       'HeavyAtomMolWt', 'Kappa3', 'MaxAbsEStateIndex', 'MinEStateIndex',\n",
    "       'NumHeteroatoms', 'PEOE_VSA10', 'PEOE_VSA14', 'PEOE_VSA6', 'PEOE_VSA7',\n",
    "       'PEOE_VSA8', 'SMR_VSA10', 'SMR_VSA5', 'SlogP_VSA3', 'VSA_EState9',\n",
    "       'fr_COO', 'fr_COO2'],\n",
    "                             y_names = ['EC1']\n",
    "                             )"
   ]
  },
  {
   "cell_type": "code",
   "execution_count": 9,
   "id": "82a90ed6",
   "metadata": {
    "execution": {
     "iopub.execute_input": "2023-06-30T16:52:20.518104Z",
     "iopub.status.busy": "2023-06-30T16:52:20.517728Z",
     "iopub.status.idle": "2023-06-30T16:52:20.589376Z",
     "shell.execute_reply": "2023-06-30T16:52:20.588425Z"
    },
    "papermill": {
     "duration": 0.084447,
     "end_time": "2023-06-30T16:52:20.592637",
     "exception": false,
     "start_time": "2023-06-30T16:52:20.508190",
     "status": "completed"
    },
    "tags": []
   },
   "outputs": [
    {
     "data": {
      "text/html": [
       "<table border=\"1\" class=\"dataframe\">\n",
       "  <thead>\n",
       "    <tr style=\"text-align: right;\">\n",
       "      <th></th>\n",
       "      <th>BertzCT</th>\n",
       "      <th>Chi1</th>\n",
       "      <th>Chi1n</th>\n",
       "      <th>Chi1v</th>\n",
       "      <th>Chi2n</th>\n",
       "      <th>Chi2v</th>\n",
       "      <th>Chi3v</th>\n",
       "      <th>Chi4n</th>\n",
       "      <th>EState_VSA1</th>\n",
       "      <th>EState_VSA2</th>\n",
       "      <th>ExactMolWt</th>\n",
       "      <th>FpDensityMorgan1</th>\n",
       "      <th>FpDensityMorgan2</th>\n",
       "      <th>FpDensityMorgan3</th>\n",
       "      <th>HallKierAlpha</th>\n",
       "      <th>HeavyAtomMolWt</th>\n",
       "      <th>Kappa3</th>\n",
       "      <th>MaxAbsEStateIndex</th>\n",
       "      <th>MinEStateIndex</th>\n",
       "      <th>NumHeteroatoms</th>\n",
       "      <th>PEOE_VSA10</th>\n",
       "      <th>PEOE_VSA14</th>\n",
       "      <th>PEOE_VSA6</th>\n",
       "      <th>PEOE_VSA7</th>\n",
       "      <th>PEOE_VSA8</th>\n",
       "      <th>SMR_VSA10</th>\n",
       "      <th>SMR_VSA5</th>\n",
       "      <th>SlogP_VSA3</th>\n",
       "      <th>VSA_EState9</th>\n",
       "      <th>fr_COO</th>\n",
       "      <th>fr_COO2</th>\n",
       "      <th>EC1</th>\n",
       "    </tr>\n",
       "  </thead>\n",
       "  <tbody>\n",
       "    <tr>\n",
       "      <th>0</th>\n",
       "      <td>49.509781</td>\n",
       "      <td>4.036581</td>\n",
       "      <td>2.281284</td>\n",
       "      <td>2.281284</td>\n",
       "      <td>1.622741</td>\n",
       "      <td>1.622741</td>\n",
       "      <td>0.368487</td>\n",
       "      <td>0.078093</td>\n",
       "      <td>1.172847e+01</td>\n",
       "      <td>1.175255e+01</td>\n",
       "      <td>74.048015</td>\n",
       "      <td>1.357143</td>\n",
       "      <td>1.857143</td>\n",
       "      <td>2.285714</td>\n",
       "      <td>-0.61</td>\n",
       "      <td>70.027002</td>\n",
       "      <td>3.430000</td>\n",
       "      <td>9.636574</td>\n",
       "      <td>-1.568935</td>\n",
       "      <td>4.0</td>\n",
       "      <td>-2.301166e-07</td>\n",
       "      <td>5.969305e+00</td>\n",
       "      <td>3.419300e-08</td>\n",
       "      <td>-3.225670e-07</td>\n",
       "      <td>3.003226e-07</td>\n",
       "      <td>1.175255e+01</td>\n",
       "      <td>5.112610e-07</td>\n",
       "      <td>9.589074e+00</td>\n",
       "      <td>21.000000</td>\n",
       "      <td>1.000000e+00</td>\n",
       "      <td>1.000000e+00</td>\n",
       "      <td>1.0</td>\n",
       "    </tr>\n",
       "    <tr>\n",
       "      <th>1</th>\n",
       "      <td>197.973426</td>\n",
       "      <td>5.464102</td>\n",
       "      <td>3.474383</td>\n",
       "      <td>3.474383</td>\n",
       "      <td>3.466982</td>\n",
       "      <td>3.466982</td>\n",
       "      <td>1.749075</td>\n",
       "      <td>0.909904</td>\n",
       "      <td>2.388763e+01</td>\n",
       "      <td>1.824941e-07</td>\n",
       "      <td>204.051685</td>\n",
       "      <td>1.333333</td>\n",
       "      <td>1.888889</td>\n",
       "      <td>2.222222</td>\n",
       "      <td>-1.81</td>\n",
       "      <td>192.132993</td>\n",
       "      <td>1.747613</td>\n",
       "      <td>10.568130</td>\n",
       "      <td>-1.697963</td>\n",
       "      <td>6.0</td>\n",
       "      <td>1.220793e+01</td>\n",
       "      <td>1.193861e+01</td>\n",
       "      <td>3.419300e-08</td>\n",
       "      <td>-3.225670e-07</td>\n",
       "      <td>3.003226e-07</td>\n",
       "      <td>1.773119e+01</td>\n",
       "      <td>2.441586e+01</td>\n",
       "      <td>1.438361e+01</td>\n",
       "      <td>58.666668</td>\n",
       "      <td>2.000000e+00</td>\n",
       "      <td>2.000000e+00</td>\n",
       "      <td>1.0</td>\n",
       "    </tr>\n",
       "    <tr>\n",
       "      <th>2</th>\n",
       "      <td>602.617555</td>\n",
       "      <td>9.651101</td>\n",
       "      <td>5.735302</td>\n",
       "      <td>7.079026</td>\n",
       "      <td>4.657542</td>\n",
       "      <td>5.526832</td>\n",
       "      <td>3.692321</td>\n",
       "      <td>1.275017</td>\n",
       "      <td>4.341674e+01</td>\n",
       "      <td>2.435374e+01</td>\n",
       "      <td>332.235137</td>\n",
       "      <td>1.357143</td>\n",
       "      <td>2.071429</td>\n",
       "      <td>2.642857</td>\n",
       "      <td>-1.87</td>\n",
       "      <td>300.227997</td>\n",
       "      <td>4.070504</td>\n",
       "      <td>12.151073</td>\n",
       "      <td>-1.233461</td>\n",
       "      <td>9.0</td>\n",
       "      <td>2.435374e+01</td>\n",
       "      <td>9.031273e-07</td>\n",
       "      <td>6.066367e+00</td>\n",
       "      <td>-3.225670e-07</td>\n",
       "      <td>6.420822e+00</td>\n",
       "      <td>1.176341e+01</td>\n",
       "      <td>3.680986e+01</td>\n",
       "      <td>9.589074e+00</td>\n",
       "      <td>58.666668</td>\n",
       "      <td>-1.974199e-08</td>\n",
       "      <td>-1.585640e-08</td>\n",
       "      <td>0.0</td>\n",
       "    </tr>\n",
       "    <tr>\n",
       "      <th>3</th>\n",
       "      <td>146.218851</td>\n",
       "      <td>5.536581</td>\n",
       "      <td>3.562010</td>\n",
       "      <td>3.562010</td>\n",
       "      <td>2.719449</td>\n",
       "      <td>2.719449</td>\n",
       "      <td>1.324553</td>\n",
       "      <td>0.983987</td>\n",
       "      <td>3.731277e+01</td>\n",
       "      <td>1.824941e-07</td>\n",
       "      <td>180.063385</td>\n",
       "      <td>0.916667</td>\n",
       "      <td>1.500000</td>\n",
       "      <td>2.000000</td>\n",
       "      <td>-0.24</td>\n",
       "      <td>168.059993</td>\n",
       "      <td>1.581759</td>\n",
       "      <td>9.119537</td>\n",
       "      <td>-1.568935</td>\n",
       "      <td>6.0</td>\n",
       "      <td>2.441587e+01</td>\n",
       "      <td>9.031273e-07</td>\n",
       "      <td>3.419300e-08</td>\n",
       "      <td>-3.225670e-07</td>\n",
       "      <td>3.003226e-07</td>\n",
       "      <td>3.823042e-07</td>\n",
       "      <td>3.070589e+01</td>\n",
       "      <td>4.736863e+00</td>\n",
       "      <td>41.666668</td>\n",
       "      <td>1.000000e+00</td>\n",
       "      <td>1.000000e+00</td>\n",
       "      <td>1.0</td>\n",
       "    </tr>\n",
       "    <tr>\n",
       "      <th>4</th>\n",
       "      <td>349.645882</td>\n",
       "      <td>7.181540</td>\n",
       "      <td>4.413266</td>\n",
       "      <td>4.413266</td>\n",
       "      <td>4.139952</td>\n",
       "      <td>4.139952</td>\n",
       "      <td>2.640965</td>\n",
       "      <td>1.880875</td>\n",
       "      <td>3.635061e+01</td>\n",
       "      <td>1.824941e-07</td>\n",
       "      <td>226.106598</td>\n",
       "      <td>1.545455</td>\n",
       "      <td>2.181818</td>\n",
       "      <td>2.818182</td>\n",
       "      <td>-1.59</td>\n",
       "      <td>212.119996</td>\n",
       "      <td>3.201490</td>\n",
       "      <td>11.189031</td>\n",
       "      <td>-1.241554</td>\n",
       "      <td>8.0</td>\n",
       "      <td>6.041841e+00</td>\n",
       "      <td>5.969305e+00</td>\n",
       "      <td>3.419300e-08</td>\n",
       "      <td>-3.225670e-07</td>\n",
       "      <td>1.346849e+01</td>\n",
       "      <td>1.175255e+01</td>\n",
       "      <td>1.888348e+01</td>\n",
       "      <td>9.589074e+00</td>\n",
       "      <td>52.666668</td>\n",
       "      <td>1.000000e+00</td>\n",
       "      <td>1.000000e+00</td>\n",
       "      <td>0.0</td>\n",
       "    </tr>\n",
       "    <tr>\n",
       "      <th>5</th>\n",
       "      <td>325.972873</td>\n",
       "      <td>5.536581</td>\n",
       "      <td>3.431698</td>\n",
       "      <td>3.431698</td>\n",
       "      <td>2.543758</td>\n",
       "      <td>2.543758</td>\n",
       "      <td>1.539558</td>\n",
       "      <td>0.955337</td>\n",
       "      <td>5.969306e+00</td>\n",
       "      <td>1.804378e+01</td>\n",
       "      <td>174.079321</td>\n",
       "      <td>1.357143</td>\n",
       "      <td>1.857143</td>\n",
       "      <td>2.214286</td>\n",
       "      <td>-1.51</td>\n",
       "      <td>164.072005</td>\n",
       "      <td>1.312840</td>\n",
       "      <td>10.271705</td>\n",
       "      <td>-1.062440</td>\n",
       "      <td>4.0</td>\n",
       "      <td>-2.301166e-07</td>\n",
       "      <td>5.969305e+00</td>\n",
       "      <td>6.066367e+00</td>\n",
       "      <td>1.213273e+01</td>\n",
       "      <td>3.003226e-07</td>\n",
       "      <td>5.969305e+00</td>\n",
       "      <td>5.112610e-07</td>\n",
       "      <td>2.625548e-08</td>\n",
       "      <td>39.666668</td>\n",
       "      <td>1.000000e+00</td>\n",
       "      <td>1.000000e+00</td>\n",
       "      <td>1.0</td>\n",
       "    </tr>\n",
       "    <tr>\n",
       "      <th>6</th>\n",
       "      <td>685.244623</td>\n",
       "      <td>8.770857</td>\n",
       "      <td>5.730710</td>\n",
       "      <td>5.730710</td>\n",
       "      <td>3.684417</td>\n",
       "      <td>3.684417</td>\n",
       "      <td>2.987190</td>\n",
       "      <td>1.985071</td>\n",
       "      <td>-4.822004e-07</td>\n",
       "      <td>1.133290e+01</td>\n",
       "      <td>180.064723</td>\n",
       "      <td>1.166667</td>\n",
       "      <td>1.875000</td>\n",
       "      <td>2.600000</td>\n",
       "      <td>-1.81</td>\n",
       "      <td>172.102997</td>\n",
       "      <td>3.646723</td>\n",
       "      <td>10.421334</td>\n",
       "      <td>0.003167</td>\n",
       "      <td>2.0</td>\n",
       "      <td>-2.301166e-07</td>\n",
       "      <td>9.031273e-07</td>\n",
       "      <td>4.544867e+01</td>\n",
       "      <td>4.053659e+01</td>\n",
       "      <td>1.112690e+01</td>\n",
       "      <td>5.783245e+00</td>\n",
       "      <td>1.229761e+01</td>\n",
       "      <td>2.625548e-08</td>\n",
       "      <td>41.000000</td>\n",
       "      <td>-1.974199e-08</td>\n",
       "      <td>-1.585640e-08</td>\n",
       "      <td>0.0</td>\n",
       "    </tr>\n",
       "    <tr>\n",
       "      <th>7</th>\n",
       "      <td>346.372592</td>\n",
       "      <td>9.270056</td>\n",
       "      <td>6.868528</td>\n",
       "      <td>6.868528</td>\n",
       "      <td>4.850532</td>\n",
       "      <td>4.850532</td>\n",
       "      <td>3.007185</td>\n",
       "      <td>2.300664</td>\n",
       "      <td>5.969306e+00</td>\n",
       "      <td>1.896950e+01</td>\n",
       "      <td>272.177644</td>\n",
       "      <td>1.181818</td>\n",
       "      <td>1.818182</td>\n",
       "      <td>2.272727</td>\n",
       "      <td>-1.31</td>\n",
       "      <td>248.196001</td>\n",
       "      <td>8.463817</td>\n",
       "      <td>10.413646</td>\n",
       "      <td>-0.667670</td>\n",
       "      <td>2.0</td>\n",
       "      <td>-2.301166e-07</td>\n",
       "      <td>5.969305e+00</td>\n",
       "      <td>6.066367e+00</td>\n",
       "      <td>5.892312e+01</td>\n",
       "      <td>6.420822e+00</td>\n",
       "      <td>5.969305e+00</td>\n",
       "      <td>8.289223e+01</td>\n",
       "      <td>4.794537e+00</td>\n",
       "      <td>49.666668</td>\n",
       "      <td>1.000000e+00</td>\n",
       "      <td>1.000000e+00</td>\n",
       "      <td>1.0</td>\n",
       "    </tr>\n",
       "    <tr>\n",
       "      <th>8</th>\n",
       "      <td>277.172790</td>\n",
       "      <td>7.221033</td>\n",
       "      <td>4.299605</td>\n",
       "      <td>5.829902</td>\n",
       "      <td>3.323218</td>\n",
       "      <td>4.562571</td>\n",
       "      <td>2.579512</td>\n",
       "      <td>1.239132</td>\n",
       "      <td>4.513547e+01</td>\n",
       "      <td>1.824941e-07</td>\n",
       "      <td>230.019153</td>\n",
       "      <td>1.062500</td>\n",
       "      <td>1.625000</td>\n",
       "      <td>2.125000</td>\n",
       "      <td>-0.09</td>\n",
       "      <td>219.020996</td>\n",
       "      <td>3.453383</td>\n",
       "      <td>10.368607</td>\n",
       "      <td>-4.730488</td>\n",
       "      <td>10.0</td>\n",
       "      <td>2.441587e+01</td>\n",
       "      <td>7.822697e+00</td>\n",
       "      <td>3.419300e-08</td>\n",
       "      <td>-3.225670e-07</td>\n",
       "      <td>3.003226e-07</td>\n",
       "      <td>7.822697e+00</td>\n",
       "      <td>3.070589e+01</td>\n",
       "      <td>1.382566e+01</td>\n",
       "      <td>44.554684</td>\n",
       "      <td>-1.974199e-08</td>\n",
       "      <td>-1.585640e-08</td>\n",
       "      <td>0.0</td>\n",
       "    </tr>\n",
       "    <tr>\n",
       "      <th>9</th>\n",
       "      <td>427.663480</td>\n",
       "      <td>9.055461</td>\n",
       "      <td>5.135057</td>\n",
       "      <td>7.849607</td>\n",
       "      <td>3.209975</td>\n",
       "      <td>5.912962</td>\n",
       "      <td>2.688578</td>\n",
       "      <td>0.846003</td>\n",
       "      <td>4.632350e+01</td>\n",
       "      <td>1.824941e-07</td>\n",
       "      <td>260.031065</td>\n",
       "      <td>1.181818</td>\n",
       "      <td>1.727273</td>\n",
       "      <td>2.363636</td>\n",
       "      <td>0.14</td>\n",
       "      <td>251.074005</td>\n",
       "      <td>3.055435</td>\n",
       "      <td>11.749658</td>\n",
       "      <td>-4.713220</td>\n",
       "      <td>15.0</td>\n",
       "      <td>2.453980e+01</td>\n",
       "      <td>1.564539e+01</td>\n",
       "      <td>3.419300e-08</td>\n",
       "      <td>-3.225670e-07</td>\n",
       "      <td>3.003226e-07</td>\n",
       "      <td>1.564539e+01</td>\n",
       "      <td>2.491878e+01</td>\n",
       "      <td>2.291445e+01</td>\n",
       "      <td>43.198055</td>\n",
       "      <td>-1.974199e-08</td>\n",
       "      <td>-1.585640e-08</td>\n",
       "      <td>1.0</td>\n",
       "    </tr>\n",
       "  </tbody>\n",
       "</table>"
      ],
      "text/plain": [
       "<IPython.core.display.HTML object>"
      ]
     },
     "metadata": {},
     "output_type": "display_data"
    }
   ],
   "source": [
    "dls.show_batch()"
   ]
  },
  {
   "cell_type": "code",
   "execution_count": 10,
   "id": "15395b8b",
   "metadata": {
    "execution": {
     "iopub.execute_input": "2023-06-30T16:52:20.612161Z",
     "iopub.status.busy": "2023-06-30T16:52:20.611755Z",
     "iopub.status.idle": "2023-06-30T16:52:20.635549Z",
     "shell.execute_reply": "2023-06-30T16:52:20.634571Z"
    },
    "papermill": {
     "duration": 0.03672,
     "end_time": "2023-06-30T16:52:20.638099",
     "exception": false,
     "start_time": "2023-06-30T16:52:20.601379",
     "status": "completed"
    },
    "tags": []
   },
   "outputs": [],
   "source": [
    "learner = tabular_learner(dls, metrics = accuracy)"
   ]
  },
  {
   "cell_type": "code",
   "execution_count": 11,
   "id": "46493edf",
   "metadata": {
    "execution": {
     "iopub.execute_input": "2023-06-30T16:52:20.658051Z",
     "iopub.status.busy": "2023-06-30T16:52:20.657304Z",
     "iopub.status.idle": "2023-06-30T16:52:38.961609Z",
     "shell.execute_reply": "2023-06-30T16:52:38.960502Z"
    },
    "papermill": {
     "duration": 18.317086,
     "end_time": "2023-06-30T16:52:38.964030",
     "exception": false,
     "start_time": "2023-06-30T16:52:20.646944",
     "status": "completed"
    },
    "tags": []
   },
   "outputs": [
    {
     "data": {
      "text/html": [
       "\n",
       "<style>\n",
       "    /* Turns off some styling */\n",
       "    progress {\n",
       "        /* gets rid of default border in Firefox and Opera. */\n",
       "        border: none;\n",
       "        /* Needs to be in here for Safari polyfill so background images work as expected. */\n",
       "        background-size: auto;\n",
       "    }\n",
       "    progress:not([value]), progress:not([value])::-webkit-progress-bar {\n",
       "        background: repeating-linear-gradient(45deg, #7e7e7e, #7e7e7e 10px, #5c5c5c 10px, #5c5c5c 20px);\n",
       "    }\n",
       "    .progress-bar-interrupted, .progress-bar-interrupted::-webkit-progress-bar {\n",
       "        background: #F44336;\n",
       "    }\n",
       "</style>\n"
      ],
      "text/plain": [
       "<IPython.core.display.HTML object>"
      ]
     },
     "metadata": {},
     "output_type": "display_data"
    },
    {
     "data": {
      "text/html": [
       "<table border=\"1\" class=\"dataframe\">\n",
       "  <thead>\n",
       "    <tr style=\"text-align: left;\">\n",
       "      <th>epoch</th>\n",
       "      <th>train_loss</th>\n",
       "      <th>valid_loss</th>\n",
       "      <th>accuracy</th>\n",
       "      <th>time</th>\n",
       "    </tr>\n",
       "  </thead>\n",
       "  <tbody>\n",
       "    <tr>\n",
       "      <td>0</td>\n",
       "      <td>0.251759</td>\n",
       "      <td>0.212596</td>\n",
       "      <td>0.328278</td>\n",
       "      <td>00:01</td>\n",
       "    </tr>\n",
       "    <tr>\n",
       "      <td>1</td>\n",
       "      <td>0.211378</td>\n",
       "      <td>0.238652</td>\n",
       "      <td>0.328278</td>\n",
       "      <td>00:01</td>\n",
       "    </tr>\n",
       "    <tr>\n",
       "      <td>2</td>\n",
       "      <td>0.204200</td>\n",
       "      <td>0.200610</td>\n",
       "      <td>0.328278</td>\n",
       "      <td>00:01</td>\n",
       "    </tr>\n",
       "    <tr>\n",
       "      <td>3</td>\n",
       "      <td>0.202317</td>\n",
       "      <td>0.205081</td>\n",
       "      <td>0.328278</td>\n",
       "      <td>00:01</td>\n",
       "    </tr>\n",
       "    <tr>\n",
       "      <td>4</td>\n",
       "      <td>0.199768</td>\n",
       "      <td>0.198138</td>\n",
       "      <td>0.328278</td>\n",
       "      <td>00:01</td>\n",
       "    </tr>\n",
       "    <tr>\n",
       "      <td>5</td>\n",
       "      <td>0.195729</td>\n",
       "      <td>0.208654</td>\n",
       "      <td>0.328278</td>\n",
       "      <td>00:01</td>\n",
       "    </tr>\n",
       "    <tr>\n",
       "      <td>6</td>\n",
       "      <td>0.201773</td>\n",
       "      <td>0.197357</td>\n",
       "      <td>0.328278</td>\n",
       "      <td>00:01</td>\n",
       "    </tr>\n",
       "    <tr>\n",
       "      <td>7</td>\n",
       "      <td>0.196977</td>\n",
       "      <td>0.198283</td>\n",
       "      <td>0.328278</td>\n",
       "      <td>00:01</td>\n",
       "    </tr>\n",
       "    <tr>\n",
       "      <td>8</td>\n",
       "      <td>0.200520</td>\n",
       "      <td>0.201773</td>\n",
       "      <td>0.328278</td>\n",
       "      <td>00:01</td>\n",
       "    </tr>\n",
       "    <tr>\n",
       "      <td>9</td>\n",
       "      <td>0.192542</td>\n",
       "      <td>0.198348</td>\n",
       "      <td>0.328278</td>\n",
       "      <td>00:01</td>\n",
       "    </tr>\n",
       "  </tbody>\n",
       "</table>"
      ],
      "text/plain": [
       "<IPython.core.display.HTML object>"
      ]
     },
     "metadata": {},
     "output_type": "display_data"
    }
   ],
   "source": [
    "learner.fit(n_epoch = 10)"
   ]
  },
  {
   "cell_type": "code",
   "execution_count": 12,
   "id": "3a44724b",
   "metadata": {
    "execution": {
     "iopub.execute_input": "2023-06-30T16:52:38.984599Z",
     "iopub.status.busy": "2023-06-30T16:52:38.984158Z",
     "iopub.status.idle": "2023-06-30T16:52:39.605671Z",
     "shell.execute_reply": "2023-06-30T16:52:39.604582Z"
    },
    "papermill": {
     "duration": 0.634913,
     "end_time": "2023-06-30T16:52:39.608355",
     "exception": false,
     "start_time": "2023-06-30T16:52:38.973442",
     "status": "completed"
    },
    "tags": []
   },
   "outputs": [
    {
     "data": {
      "text/html": [
       "\n",
       "<style>\n",
       "    /* Turns off some styling */\n",
       "    progress {\n",
       "        /* gets rid of default border in Firefox and Opera. */\n",
       "        border: none;\n",
       "        /* Needs to be in here for Safari polyfill so background images work as expected. */\n",
       "        background-size: auto;\n",
       "    }\n",
       "    progress:not([value]), progress:not([value])::-webkit-progress-bar {\n",
       "        background: repeating-linear-gradient(45deg, #7e7e7e, #7e7e7e 10px, #5c5c5c 10px, #5c5c5c 20px);\n",
       "    }\n",
       "    .progress-bar-interrupted, .progress-bar-interrupted::-webkit-progress-bar {\n",
       "        background: #F44336;\n",
       "    }\n",
       "</style>\n"
      ],
      "text/plain": [
       "<IPython.core.display.HTML object>"
      ]
     },
     "metadata": {},
     "output_type": "display_data"
    },
    {
     "data": {
      "text/html": [],
      "text/plain": [
       "<IPython.core.display.HTML object>"
      ]
     },
     "metadata": {},
     "output_type": "display_data"
    }
   ],
   "source": [
    "test_dl = learner.dls.test_dl(test_data,\n",
    "                             procs= [Normalize], \n",
    "                             cont_names=['BertzCT', 'Chi1', 'Chi1n', 'Chi1v', 'Chi2n', 'Chi2v', 'Chi3v', 'Chi4n',\n",
    "       'EState_VSA1', 'EState_VSA2', 'ExactMolWt', 'FpDensityMorgan1',\n",
    "       'FpDensityMorgan2', 'FpDensityMorgan3', 'HallKierAlpha',\n",
    "       'HeavyAtomMolWt', 'Kappa3', 'MaxAbsEStateIndex', 'MinEStateIndex',\n",
    "       'NumHeteroatoms', 'PEOE_VSA10', 'PEOE_VSA14', 'PEOE_VSA6', 'PEOE_VSA7',\n",
    "       'PEOE_VSA8', 'SMR_VSA10', 'SMR_VSA5', 'SlogP_VSA3', 'VSA_EState9',\n",
    "       'fr_COO', 'fr_COO2'],y_names = ['EC1'])\n",
    "y_EC1 = learner.get_preds(dl = test_dl) # Make predictions on it\n"
   ]
  },
  {
   "cell_type": "code",
   "execution_count": 13,
   "id": "4764b6fe",
   "metadata": {
    "execution": {
     "iopub.execute_input": "2023-06-30T16:52:39.629703Z",
     "iopub.status.busy": "2023-06-30T16:52:39.629295Z",
     "iopub.status.idle": "2023-06-30T16:52:40.305631Z",
     "shell.execute_reply": "2023-06-30T16:52:40.304666Z"
    },
    "papermill": {
     "duration": 0.689884,
     "end_time": "2023-06-30T16:52:40.308107",
     "exception": false,
     "start_time": "2023-06-30T16:52:39.618223",
     "status": "completed"
    },
    "tags": []
   },
   "outputs": [
    {
     "data": {
      "text/html": [
       "\n",
       "<style>\n",
       "    /* Turns off some styling */\n",
       "    progress {\n",
       "        /* gets rid of default border in Firefox and Opera. */\n",
       "        border: none;\n",
       "        /* Needs to be in here for Safari polyfill so background images work as expected. */\n",
       "        background-size: auto;\n",
       "    }\n",
       "    progress:not([value]), progress:not([value])::-webkit-progress-bar {\n",
       "        background: repeating-linear-gradient(45deg, #7e7e7e, #7e7e7e 10px, #5c5c5c 10px, #5c5c5c 20px);\n",
       "    }\n",
       "    .progress-bar-interrupted, .progress-bar-interrupted::-webkit-progress-bar {\n",
       "        background: #F44336;\n",
       "    }\n",
       "</style>\n"
      ],
      "text/plain": [
       "<IPython.core.display.HTML object>"
      ]
     },
     "metadata": {},
     "output_type": "display_data"
    },
    {
     "data": {
      "text/html": [],
      "text/plain": [
       "<IPython.core.display.HTML object>"
      ]
     },
     "metadata": {},
     "output_type": "display_data"
    }
   ],
   "source": [
    "dls = TabularDataLoaders.from_df(train_data,\n",
    "                             procs= [Normalize], \n",
    "                             cont_names=['BertzCT', 'Chi1', 'Chi1n', 'Chi1v', 'Chi2n', 'Chi2v', 'Chi3v', 'Chi4n',\n",
    "       'EState_VSA1', 'EState_VSA2', 'ExactMolWt', 'FpDensityMorgan1',\n",
    "       'FpDensityMorgan2', 'FpDensityMorgan3', 'HallKierAlpha',\n",
    "       'HeavyAtomMolWt', 'Kappa3', 'MaxAbsEStateIndex', 'MinEStateIndex',\n",
    "       'NumHeteroatoms', 'PEOE_VSA10', 'PEOE_VSA14', 'PEOE_VSA6', 'PEOE_VSA7',\n",
    "       'PEOE_VSA8', 'SMR_VSA10', 'SMR_VSA5', 'SlogP_VSA3', 'VSA_EState9',\n",
    "       'fr_COO', 'fr_COO2'],\n",
    "                             y_names = ['EC2']\n",
    "                             )\n",
    "\n",
    "learner = tabular_learner(dls, metrics = accuracy)\n",
    "\n",
    "test_dl = learner.dls.test_dl(test_data,\n",
    "                             procs= [Normalize], \n",
    "                             cont_names=['BertzCT', 'Chi1', 'Chi1n', 'Chi1v', 'Chi2n', 'Chi2v', 'Chi3v', 'Chi4n',\n",
    "       'EState_VSA1', 'EState_VSA2', 'ExactMolWt', 'FpDensityMorgan1',\n",
    "       'FpDensityMorgan2', 'FpDensityMorgan3', 'HallKierAlpha',\n",
    "       'HeavyAtomMolWt', 'Kappa3', 'MaxAbsEStateIndex', 'MinEStateIndex',\n",
    "       'NumHeteroatoms', 'PEOE_VSA10', 'PEOE_VSA14', 'PEOE_VSA6', 'PEOE_VSA7',\n",
    "       'PEOE_VSA8', 'SMR_VSA10', 'SMR_VSA5', 'SlogP_VSA3', 'VSA_EState9',\n",
    "       'fr_COO', 'fr_COO2'])\n",
    "y_EC2 = learner.get_preds(dl = test_dl) # Make predictions on it\n"
   ]
  },
  {
   "cell_type": "code",
   "execution_count": 14,
   "id": "8e1fcfbe",
   "metadata": {
    "execution": {
     "iopub.execute_input": "2023-06-30T16:52:40.329962Z",
     "iopub.status.busy": "2023-06-30T16:52:40.329576Z",
     "iopub.status.idle": "2023-06-30T16:52:40.334706Z",
     "shell.execute_reply": "2023-06-30T16:52:40.333582Z"
    },
    "papermill": {
     "duration": 0.018579,
     "end_time": "2023-06-30T16:52:40.336828",
     "exception": false,
     "start_time": "2023-06-30T16:52:40.318249",
     "status": "completed"
    },
    "tags": []
   },
   "outputs": [],
   "source": [
    "y_EC1 = y_EC1[0]\n",
    "y_EC2 = y_EC2[0]"
   ]
  },
  {
   "cell_type": "code",
   "execution_count": 15,
   "id": "e205c86f",
   "metadata": {
    "execution": {
     "iopub.execute_input": "2023-06-30T16:52:40.359077Z",
     "iopub.status.busy": "2023-06-30T16:52:40.358682Z",
     "iopub.status.idle": "2023-06-30T16:52:40.363942Z",
     "shell.execute_reply": "2023-06-30T16:52:40.362816Z"
    },
    "papermill": {
     "duration": 0.018858,
     "end_time": "2023-06-30T16:52:40.366189",
     "exception": false,
     "start_time": "2023-06-30T16:52:40.347331",
     "status": "completed"
    },
    "tags": []
   },
   "outputs": [],
   "source": [
    "y_EC1 = y_EC1.numpy()\n",
    "y_EC2 = y_EC2.numpy()"
   ]
  },
  {
   "cell_type": "code",
   "execution_count": 16,
   "id": "3a5c2033",
   "metadata": {
    "execution": {
     "iopub.execute_input": "2023-06-30T16:52:40.387710Z",
     "iopub.status.busy": "2023-06-30T16:52:40.387303Z",
     "iopub.status.idle": "2023-06-30T16:52:40.426632Z",
     "shell.execute_reply": "2023-06-30T16:52:40.425592Z"
    },
    "papermill": {
     "duration": 0.053183,
     "end_time": "2023-06-30T16:52:40.429239",
     "exception": false,
     "start_time": "2023-06-30T16:52:40.376056",
     "status": "completed"
    },
    "tags": []
   },
   "outputs": [],
   "source": [
    "ans_EC1 = []\n",
    "mid = y_EC1.max() + y_EC1.min()\n",
    "mid /= 2\n",
    "for i in y_EC1:\n",
    "    if i >= mid: ans_EC1.append(1)\n",
    "    else: ans_EC1.append(0)"
   ]
  },
  {
   "cell_type": "code",
   "execution_count": 17,
   "id": "3354c9c8",
   "metadata": {
    "execution": {
     "iopub.execute_input": "2023-06-30T16:52:40.450838Z",
     "iopub.status.busy": "2023-06-30T16:52:40.450397Z",
     "iopub.status.idle": "2023-06-30T16:52:40.488159Z",
     "shell.execute_reply": "2023-06-30T16:52:40.486964Z"
    },
    "papermill": {
     "duration": 0.05143,
     "end_time": "2023-06-30T16:52:40.490561",
     "exception": false,
     "start_time": "2023-06-30T16:52:40.439131",
     "status": "completed"
    },
    "tags": []
   },
   "outputs": [],
   "source": [
    "ans_EC2 = []\n",
    "mid = y_EC2.max() + y_EC2.min()\n",
    "mid /= 2\n",
    "for i in y_EC2:\n",
    "    if i >= mid: ans_EC2.append(1)\n",
    "    else: ans_EC2.append(0)"
   ]
  },
  {
   "cell_type": "code",
   "execution_count": 18,
   "id": "98909035",
   "metadata": {
    "execution": {
     "iopub.execute_input": "2023-06-30T16:52:40.512250Z",
     "iopub.status.busy": "2023-06-30T16:52:40.511865Z",
     "iopub.status.idle": "2023-06-30T16:52:40.527521Z",
     "shell.execute_reply": "2023-06-30T16:52:40.526721Z"
    },
    "papermill": {
     "duration": 0.029115,
     "end_time": "2023-06-30T16:52:40.529757",
     "exception": false,
     "start_time": "2023-06-30T16:52:40.500642",
     "status": "completed"
    },
    "tags": []
   },
   "outputs": [],
   "source": [
    "sub_df['EC1'] = ans_EC1\n",
    "sub_df['EC2'] = ans_EC2"
   ]
  },
  {
   "cell_type": "code",
   "execution_count": 19,
   "id": "40a7121d",
   "metadata": {
    "execution": {
     "iopub.execute_input": "2023-06-30T16:52:40.551813Z",
     "iopub.status.busy": "2023-06-30T16:52:40.550791Z",
     "iopub.status.idle": "2023-06-30T16:52:40.586357Z",
     "shell.execute_reply": "2023-06-30T16:52:40.585350Z"
    },
    "papermill": {
     "duration": 0.049408,
     "end_time": "2023-06-30T16:52:40.589026",
     "exception": false,
     "start_time": "2023-06-30T16:52:40.539618",
     "status": "completed"
    },
    "tags": []
   },
   "outputs": [],
   "source": [
    "sub_df.to_csv('submission.csv', index = False)"
   ]
  },
  {
   "cell_type": "code",
   "execution_count": null,
   "id": "3725956b",
   "metadata": {
    "papermill": {
     "duration": 0.00968,
     "end_time": "2023-06-30T16:52:40.608633",
     "exception": false,
     "start_time": "2023-06-30T16:52:40.598953",
     "status": "completed"
    },
    "tags": []
   },
   "outputs": [],
   "source": []
  }
 ],
 "metadata": {
  "kernelspec": {
   "display_name": "Python 3",
   "language": "python",
   "name": "python3"
  },
  "language_info": {
   "codemirror_mode": {
    "name": "ipython",
    "version": 3
   },
   "file_extension": ".py",
   "mimetype": "text/x-python",
   "name": "python",
   "nbconvert_exporter": "python",
   "pygments_lexer": "ipython3",
   "version": "3.10.10"
  },
  "papermill": {
   "default_parameters": {},
   "duration": 54.715868,
   "end_time": "2023-06-30T16:52:42.837307",
   "environment_variables": {},
   "exception": null,
   "input_path": "__notebook__.ipynb",
   "output_path": "__notebook__.ipynb",
   "parameters": {},
   "start_time": "2023-06-30T16:51:48.121439",
   "version": "2.4.0"
  }
 },
 "nbformat": 4,
 "nbformat_minor": 5
}
