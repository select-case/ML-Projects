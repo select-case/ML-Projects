{
 "cells": [
  {
   "cell_type": "code",
   "execution_count": 1,
   "id": "6335567a",
   "metadata": {
    "_cell_guid": "b1076dfc-b9ad-4769-8c92-a6c4dae69d19",
    "_uuid": "8f2839f25d086af736a60e9eeb907d3b93b6e0e5",
    "execution": {
     "iopub.execute_input": "2023-06-30T16:47:57.066159Z",
     "iopub.status.busy": "2023-06-30T16:47:57.065426Z",
     "iopub.status.idle": "2023-06-30T16:47:57.082056Z",
     "shell.execute_reply": "2023-06-30T16:47:57.080830Z"
    },
    "papermill": {
     "duration": 0.025944,
     "end_time": "2023-06-30T16:47:57.084282",
     "exception": false,
     "start_time": "2023-06-30T16:47:57.058338",
     "status": "completed"
    },
    "tags": []
   },
   "outputs": [
    {
     "name": "stdout",
     "output_type": "stream",
     "text": [
      "/kaggle/input/playground-series-s3e18/sample_submission.csv\n",
      "/kaggle/input/playground-series-s3e18/train.csv\n",
      "/kaggle/input/playground-series-s3e18/test.csv\n"
     ]
    }
   ],
   "source": [
    "# This Python 3 environment comes with many helpful analytics libraries installed\n",
    "# It is defined by the kaggle/python Docker image: https://github.com/kaggle/docker-python\n",
    "# For example, here's several helpful packages to load\n",
    "\n",
    "import numpy as np # linear algebra\n",
    "import pandas as pd # data processing, CSV file I/O (e.g. pd.read_csv)\n",
    "\n",
    "# Input data files are available in the read-only \"../input/\" directory\n",
    "# For example, running this (by clicking run or pressing Shift+Enter) will list all files under the input directory\n",
    "\n",
    "import os\n",
    "for dirname, _, filenames in os.walk('/kaggle/input'):\n",
    "    for filename in filenames:\n",
    "        print(os.path.join(dirname, filename))\n",
    "\n",
    "# You can write up to 20GB to the current directory (/kaggle/working/) that gets preserved as output when you create a version using \"Save & Run All\" \n",
    "# You can also write temporary files to /kaggle/temp/, but they won't be saved outside of the current session"
   ]
  },
  {
   "cell_type": "code",
   "execution_count": 2,
   "id": "10a351fc",
   "metadata": {
    "execution": {
     "iopub.execute_input": "2023-06-30T16:47:57.096641Z",
     "iopub.status.busy": "2023-06-30T16:47:57.096218Z",
     "iopub.status.idle": "2023-06-30T16:48:09.432191Z",
     "shell.execute_reply": "2023-06-30T16:48:09.430770Z"
    },
    "papermill": {
     "duration": 12.344925,
     "end_time": "2023-06-30T16:48:09.434849",
     "exception": false,
     "start_time": "2023-06-30T16:47:57.089924",
     "status": "completed"
    },
    "tags": []
   },
   "outputs": [
    {
     "name": "stdout",
     "output_type": "stream",
     "text": [
      "Requirement already satisfied: fastai in /opt/conda/lib/python3.10/site-packages (2.7.12)\r\n",
      "Requirement already satisfied: pip in /opt/conda/lib/python3.10/site-packages (from fastai) (23.1.2)\r\n",
      "Requirement already satisfied: packaging in /opt/conda/lib/python3.10/site-packages (from fastai) (21.3)\r\n",
      "Requirement already satisfied: fastdownload<2,>=0.0.5 in /opt/conda/lib/python3.10/site-packages (from fastai) (0.0.7)\r\n",
      "Requirement already satisfied: fastcore<1.6,>=1.5.29 in /opt/conda/lib/python3.10/site-packages (from fastai) (1.5.29)\r\n",
      "Requirement already satisfied: torchvision>=0.8.2 in /opt/conda/lib/python3.10/site-packages (from fastai) (0.15.1+cpu)\r\n",
      "Requirement already satisfied: matplotlib in /opt/conda/lib/python3.10/site-packages (from fastai) (3.6.3)\r\n",
      "Requirement already satisfied: pandas in /opt/conda/lib/python3.10/site-packages (from fastai) (1.5.3)\r\n",
      "Requirement already satisfied: requests in /opt/conda/lib/python3.10/site-packages (from fastai) (2.28.2)\r\n",
      "Requirement already satisfied: pyyaml in /opt/conda/lib/python3.10/site-packages (from fastai) (5.4.1)\r\n",
      "Requirement already satisfied: fastprogress>=0.2.4 in /opt/conda/lib/python3.10/site-packages (from fastai) (1.0.3)\r\n",
      "Requirement already satisfied: pillow>6.0.0 in /opt/conda/lib/python3.10/site-packages (from fastai) (9.5.0)\r\n",
      "Requirement already satisfied: scikit-learn in /opt/conda/lib/python3.10/site-packages (from fastai) (1.2.2)\r\n",
      "Requirement already satisfied: scipy in /opt/conda/lib/python3.10/site-packages (from fastai) (1.10.1)\r\n",
      "Requirement already satisfied: spacy<4 in /opt/conda/lib/python3.10/site-packages (from fastai) (3.5.3)\r\n",
      "Requirement already satisfied: torch<2.1,>=1.7 in /opt/conda/lib/python3.10/site-packages (from fastai) (2.0.0+cpu)\r\n",
      "Requirement already satisfied: spacy-legacy<3.1.0,>=3.0.11 in /opt/conda/lib/python3.10/site-packages (from spacy<4->fastai) (3.0.12)\r\n",
      "Requirement already satisfied: spacy-loggers<2.0.0,>=1.0.0 in /opt/conda/lib/python3.10/site-packages (from spacy<4->fastai) (1.0.4)\r\n",
      "Requirement already satisfied: murmurhash<1.1.0,>=0.28.0 in /opt/conda/lib/python3.10/site-packages (from spacy<4->fastai) (1.0.9)\r\n",
      "Requirement already satisfied: cymem<2.1.0,>=2.0.2 in /opt/conda/lib/python3.10/site-packages (from spacy<4->fastai) (2.0.7)\r\n",
      "Requirement already satisfied: preshed<3.1.0,>=3.0.2 in /opt/conda/lib/python3.10/site-packages (from spacy<4->fastai) (3.0.8)\r\n",
      "Requirement already satisfied: thinc<8.2.0,>=8.1.8 in /opt/conda/lib/python3.10/site-packages (from spacy<4->fastai) (8.1.10)\r\n",
      "Requirement already satisfied: wasabi<1.2.0,>=0.9.1 in /opt/conda/lib/python3.10/site-packages (from spacy<4->fastai) (1.1.2)\r\n",
      "Requirement already satisfied: srsly<3.0.0,>=2.4.3 in /opt/conda/lib/python3.10/site-packages (from spacy<4->fastai) (2.4.6)\r\n",
      "Requirement already satisfied: catalogue<2.1.0,>=2.0.6 in /opt/conda/lib/python3.10/site-packages (from spacy<4->fastai) (2.0.8)\r\n",
      "Requirement already satisfied: typer<0.8.0,>=0.3.0 in /opt/conda/lib/python3.10/site-packages (from spacy<4->fastai) (0.7.0)\r\n",
      "Requirement already satisfied: pathy>=0.10.0 in /opt/conda/lib/python3.10/site-packages (from spacy<4->fastai) (0.10.1)\r\n",
      "Requirement already satisfied: smart-open<7.0.0,>=5.2.1 in /opt/conda/lib/python3.10/site-packages (from spacy<4->fastai) (6.3.0)\r\n",
      "Requirement already satisfied: tqdm<5.0.0,>=4.38.0 in /opt/conda/lib/python3.10/site-packages (from spacy<4->fastai) (4.64.1)\r\n",
      "Requirement already satisfied: numpy>=1.15.0 in /opt/conda/lib/python3.10/site-packages (from spacy<4->fastai) (1.23.5)\r\n",
      "Requirement already satisfied: pydantic!=1.8,!=1.8.1,<1.11.0,>=1.7.4 in /opt/conda/lib/python3.10/site-packages (from spacy<4->fastai) (1.10.7)\r\n",
      "Requirement already satisfied: jinja2 in /opt/conda/lib/python3.10/site-packages (from spacy<4->fastai) (3.1.2)\r\n",
      "Requirement already satisfied: setuptools in /opt/conda/lib/python3.10/site-packages (from spacy<4->fastai) (59.8.0)\r\n",
      "Requirement already satisfied: langcodes<4.0.0,>=3.2.0 in /opt/conda/lib/python3.10/site-packages (from spacy<4->fastai) (3.3.0)\r\n",
      "Requirement already satisfied: pyparsing!=3.0.5,>=2.0.2 in /opt/conda/lib/python3.10/site-packages (from packaging->fastai) (3.0.9)\r\n",
      "Requirement already satisfied: charset-normalizer<4,>=2 in /opt/conda/lib/python3.10/site-packages (from requests->fastai) (2.1.1)\r\n",
      "Requirement already satisfied: idna<4,>=2.5 in /opt/conda/lib/python3.10/site-packages (from requests->fastai) (3.4)\r\n",
      "Requirement already satisfied: urllib3<1.27,>=1.21.1 in /opt/conda/lib/python3.10/site-packages (from requests->fastai) (1.26.15)\r\n",
      "Requirement already satisfied: certifi>=2017.4.17 in /opt/conda/lib/python3.10/site-packages (from requests->fastai) (2023.5.7)\r\n",
      "Requirement already satisfied: filelock in /opt/conda/lib/python3.10/site-packages (from torch<2.1,>=1.7->fastai) (3.12.0)\r\n",
      "Requirement already satisfied: typing-extensions in /opt/conda/lib/python3.10/site-packages (from torch<2.1,>=1.7->fastai) (4.5.0)\r\n",
      "Requirement already satisfied: sympy in /opt/conda/lib/python3.10/site-packages (from torch<2.1,>=1.7->fastai) (1.12)\r\n",
      "Requirement already satisfied: networkx in /opt/conda/lib/python3.10/site-packages (from torch<2.1,>=1.7->fastai) (3.1)\r\n",
      "Requirement already satisfied: contourpy>=1.0.1 in /opt/conda/lib/python3.10/site-packages (from matplotlib->fastai) (1.0.7)\r\n",
      "Requirement already satisfied: cycler>=0.10 in /opt/conda/lib/python3.10/site-packages (from matplotlib->fastai) (0.11.0)\r\n",
      "Requirement already satisfied: fonttools>=4.22.0 in /opt/conda/lib/python3.10/site-packages (from matplotlib->fastai) (4.39.3)\r\n",
      "Requirement already satisfied: kiwisolver>=1.0.1 in /opt/conda/lib/python3.10/site-packages (from matplotlib->fastai) (1.4.4)\r\n",
      "Requirement already satisfied: python-dateutil>=2.7 in /opt/conda/lib/python3.10/site-packages (from matplotlib->fastai) (2.8.2)\r\n",
      "Requirement already satisfied: pytz>=2020.1 in /opt/conda/lib/python3.10/site-packages (from pandas->fastai) (2023.3)\r\n",
      "Requirement already satisfied: joblib>=1.1.1 in /opt/conda/lib/python3.10/site-packages (from scikit-learn->fastai) (1.2.0)\r\n",
      "Requirement already satisfied: threadpoolctl>=2.0.0 in /opt/conda/lib/python3.10/site-packages (from scikit-learn->fastai) (3.1.0)\r\n",
      "Requirement already satisfied: six>=1.5 in /opt/conda/lib/python3.10/site-packages (from python-dateutil>=2.7->matplotlib->fastai) (1.16.0)\r\n",
      "Requirement already satisfied: blis<0.8.0,>=0.7.8 in /opt/conda/lib/python3.10/site-packages (from thinc<8.2.0,>=8.1.8->spacy<4->fastai) (0.7.9)\r\n",
      "Requirement already satisfied: confection<1.0.0,>=0.0.1 in /opt/conda/lib/python3.10/site-packages (from thinc<8.2.0,>=8.1.8->spacy<4->fastai) (0.0.4)\r\n",
      "Requirement already satisfied: click<9.0.0,>=7.1.1 in /opt/conda/lib/python3.10/site-packages (from typer<0.8.0,>=0.3.0->spacy<4->fastai) (8.1.3)\r\n",
      "Requirement already satisfied: MarkupSafe>=2.0 in /opt/conda/lib/python3.10/site-packages (from jinja2->spacy<4->fastai) (2.1.2)\r\n",
      "Requirement already satisfied: mpmath>=0.19 in /opt/conda/lib/python3.10/site-packages (from sympy->torch<2.1,>=1.7->fastai) (1.3.0)\r\n",
      "\u001b[33mWARNING: Running pip as the 'root' user can result in broken permissions and conflicting behaviour with the system package manager. It is recommended to use a virtual environment instead: https://pip.pypa.io/warnings/venv\u001b[0m\u001b[33m\r\n",
      "\u001b[0m"
     ]
    }
   ],
   "source": [
    "!pip install fastai"
   ]
  },
  {
   "cell_type": "code",
   "execution_count": 3,
   "id": "cef8ccde",
   "metadata": {
    "execution": {
     "iopub.execute_input": "2023-06-30T16:48:09.449355Z",
     "iopub.status.busy": "2023-06-30T16:48:09.448923Z",
     "iopub.status.idle": "2023-06-30T16:48:14.730729Z",
     "shell.execute_reply": "2023-06-30T16:48:14.729622Z"
    },
    "papermill": {
     "duration": 5.292189,
     "end_time": "2023-06-30T16:48:14.733099",
     "exception": false,
     "start_time": "2023-06-30T16:48:09.440910",
     "status": "completed"
    },
    "tags": []
   },
   "outputs": [],
   "source": [
    "from fastai.tabular.all import *"
   ]
  },
  {
   "cell_type": "code",
   "execution_count": 4,
   "id": "64f5053f",
   "metadata": {
    "execution": {
     "iopub.execute_input": "2023-06-30T16:48:14.747411Z",
     "iopub.status.busy": "2023-06-30T16:48:14.746788Z",
     "iopub.status.idle": "2023-06-30T16:48:15.040488Z",
     "shell.execute_reply": "2023-06-30T16:48:15.039344Z"
    },
    "papermill": {
     "duration": 0.303519,
     "end_time": "2023-06-30T16:48:15.043273",
     "exception": false,
     "start_time": "2023-06-30T16:48:14.739754",
     "status": "completed"
    },
    "tags": []
   },
   "outputs": [],
   "source": [
    "train_data = pd.read_csv('/kaggle/input/playground-series-s3e18/train.csv')\n",
    "test_data = pd.read_csv('/kaggle/input/playground-series-s3e18/test.csv')\n",
    "sub_df = pd.read_csv('/kaggle/input/playground-series-s3e18/sample_submission.csv')"
   ]
  },
  {
   "cell_type": "code",
   "execution_count": 5,
   "id": "0522a037",
   "metadata": {
    "execution": {
     "iopub.execute_input": "2023-06-30T16:48:15.058572Z",
     "iopub.status.busy": "2023-06-30T16:48:15.058167Z",
     "iopub.status.idle": "2023-06-30T16:48:15.078150Z",
     "shell.execute_reply": "2023-06-30T16:48:15.077080Z"
    },
    "papermill": {
     "duration": 0.031686,
     "end_time": "2023-06-30T16:48:15.080887",
     "exception": false,
     "start_time": "2023-06-30T16:48:15.049201",
     "status": "completed"
    },
    "tags": []
   },
   "outputs": [],
   "source": [
    "train_data = train_data[train_data.columns[1:34]]\n",
    "test_data = test_data[test_data.columns[1:]]"
   ]
  },
  {
   "cell_type": "code",
   "execution_count": 6,
   "id": "bad0b4cf",
   "metadata": {
    "execution": {
     "iopub.execute_input": "2023-06-30T16:48:15.094435Z",
     "iopub.status.busy": "2023-06-30T16:48:15.094065Z",
     "iopub.status.idle": "2023-06-30T16:48:15.097595Z",
     "shell.execute_reply": "2023-06-30T16:48:15.096811Z"
    },
    "papermill": {
     "duration": 0.012681,
     "end_time": "2023-06-30T16:48:15.099499",
     "exception": false,
     "start_time": "2023-06-30T16:48:15.086818",
     "status": "completed"
    },
    "tags": []
   },
   "outputs": [],
   "source": [
    "# EC_12 = train_data[['EC1','EC2']]\n",
    "# train_data = train_data[train_data.columns[0:31]]"
   ]
  },
  {
   "cell_type": "code",
   "execution_count": 7,
   "id": "856ec889",
   "metadata": {
    "execution": {
     "iopub.execute_input": "2023-06-30T16:48:15.113353Z",
     "iopub.status.busy": "2023-06-30T16:48:15.112418Z",
     "iopub.status.idle": "2023-06-30T16:48:15.120254Z",
     "shell.execute_reply": "2023-06-30T16:48:15.119358Z"
    },
    "papermill": {
     "duration": 0.016979,
     "end_time": "2023-06-30T16:48:15.122402",
     "exception": false,
     "start_time": "2023-06-30T16:48:15.105423",
     "status": "completed"
    },
    "tags": []
   },
   "outputs": [
    {
     "data": {
      "text/plain": [
       "Index(['BertzCT', 'Chi1', 'Chi1n', 'Chi1v', 'Chi2n', 'Chi2v', 'Chi3v', 'Chi4n',\n",
       "       'EState_VSA1', 'EState_VSA2', 'ExactMolWt', 'FpDensityMorgan1',\n",
       "       'FpDensityMorgan2', 'FpDensityMorgan3', 'HallKierAlpha',\n",
       "       'HeavyAtomMolWt', 'Kappa3', 'MaxAbsEStateIndex', 'MinEStateIndex',\n",
       "       'NumHeteroatoms', 'PEOE_VSA10', 'PEOE_VSA14', 'PEOE_VSA6', 'PEOE_VSA7',\n",
       "       'PEOE_VSA8', 'SMR_VSA10', 'SMR_VSA5', 'SlogP_VSA3', 'VSA_EState9',\n",
       "       'fr_COO', 'fr_COO2', 'EC1', 'EC2'],\n",
       "      dtype='object')"
      ]
     },
     "execution_count": 7,
     "metadata": {},
     "output_type": "execute_result"
    }
   ],
   "source": [
    "train_data.columns"
   ]
  },
  {
   "cell_type": "code",
   "execution_count": 8,
   "id": "4a09e1f6",
   "metadata": {
    "execution": {
     "iopub.execute_input": "2023-06-30T16:48:15.136103Z",
     "iopub.status.busy": "2023-06-30T16:48:15.135726Z",
     "iopub.status.idle": "2023-06-30T16:48:15.272277Z",
     "shell.execute_reply": "2023-06-30T16:48:15.271014Z"
    },
    "papermill": {
     "duration": 0.146616,
     "end_time": "2023-06-30T16:48:15.275043",
     "exception": false,
     "start_time": "2023-06-30T16:48:15.128427",
     "status": "completed"
    },
    "tags": []
   },
   "outputs": [],
   "source": [
    "dls = TabularDataLoaders.from_df(train_data,\n",
    "                             procs= [Normalize], \n",
    "                             cont_names=['BertzCT', 'Chi1', 'Chi1n', 'Chi1v', 'Chi2n', 'Chi2v', 'Chi3v', 'Chi4n',\n",
    "       'EState_VSA1', 'EState_VSA2', 'ExactMolWt', 'FpDensityMorgan1',\n",
    "       'FpDensityMorgan2', 'FpDensityMorgan3', 'HallKierAlpha',\n",
    "       'HeavyAtomMolWt', 'Kappa3', 'MaxAbsEStateIndex', 'MinEStateIndex',\n",
    "       'NumHeteroatoms', 'PEOE_VSA10', 'PEOE_VSA14', 'PEOE_VSA6', 'PEOE_VSA7',\n",
    "       'PEOE_VSA8', 'SMR_VSA10', 'SMR_VSA5', 'SlogP_VSA3', 'VSA_EState9',\n",
    "       'fr_COO', 'fr_COO2'],\n",
    "                             y_names = ['EC1']\n",
    "                             )"
   ]
  },
  {
   "cell_type": "code",
   "execution_count": 9,
   "id": "764985b3",
   "metadata": {
    "execution": {
     "iopub.execute_input": "2023-06-30T16:48:15.289141Z",
     "iopub.status.busy": "2023-06-30T16:48:15.288518Z",
     "iopub.status.idle": "2023-06-30T16:48:15.352323Z",
     "shell.execute_reply": "2023-06-30T16:48:15.350940Z"
    },
    "papermill": {
     "duration": 0.073852,
     "end_time": "2023-06-30T16:48:15.354967",
     "exception": false,
     "start_time": "2023-06-30T16:48:15.281115",
     "status": "completed"
    },
    "tags": []
   },
   "outputs": [
    {
     "data": {
      "text/html": [
       "<table border=\"1\" class=\"dataframe\">\n",
       "  <thead>\n",
       "    <tr style=\"text-align: right;\">\n",
       "      <th></th>\n",
       "      <th>BertzCT</th>\n",
       "      <th>Chi1</th>\n",
       "      <th>Chi1n</th>\n",
       "      <th>Chi1v</th>\n",
       "      <th>Chi2n</th>\n",
       "      <th>Chi2v</th>\n",
       "      <th>Chi3v</th>\n",
       "      <th>Chi4n</th>\n",
       "      <th>EState_VSA1</th>\n",
       "      <th>EState_VSA2</th>\n",
       "      <th>ExactMolWt</th>\n",
       "      <th>FpDensityMorgan1</th>\n",
       "      <th>FpDensityMorgan2</th>\n",
       "      <th>FpDensityMorgan3</th>\n",
       "      <th>HallKierAlpha</th>\n",
       "      <th>HeavyAtomMolWt</th>\n",
       "      <th>Kappa3</th>\n",
       "      <th>MaxAbsEStateIndex</th>\n",
       "      <th>MinEStateIndex</th>\n",
       "      <th>NumHeteroatoms</th>\n",
       "      <th>PEOE_VSA10</th>\n",
       "      <th>PEOE_VSA14</th>\n",
       "      <th>PEOE_VSA6</th>\n",
       "      <th>PEOE_VSA7</th>\n",
       "      <th>PEOE_VSA8</th>\n",
       "      <th>SMR_VSA10</th>\n",
       "      <th>SMR_VSA5</th>\n",
       "      <th>SlogP_VSA3</th>\n",
       "      <th>VSA_EState9</th>\n",
       "      <th>fr_COO</th>\n",
       "      <th>fr_COO2</th>\n",
       "      <th>EC1</th>\n",
       "    </tr>\n",
       "  </thead>\n",
       "  <tbody>\n",
       "    <tr>\n",
       "      <th>0</th>\n",
       "      <td>215.147439</td>\n",
       "      <td>4.180739</td>\n",
       "      <td>2.925131</td>\n",
       "      <td>3.925131</td>\n",
       "      <td>1.803975</td>\n",
       "      <td>1.803976</td>\n",
       "      <td>1.397654</td>\n",
       "      <td>7.603274e-01</td>\n",
       "      <td>2.402229e+01</td>\n",
       "      <td>-3.234642e-07</td>\n",
       "      <td>160.037167</td>\n",
       "      <td>1.583333</td>\n",
       "      <td>2.222222</td>\n",
       "      <td>2.555556</td>\n",
       "      <td>-0.61</td>\n",
       "      <td>148.072993</td>\n",
       "      <td>1.600927</td>\n",
       "      <td>10.061620</td>\n",
       "      <td>-1.141574</td>\n",
       "      <td>5.0</td>\n",
       "      <td>1.220793e+01</td>\n",
       "      <td>5.969305e+00</td>\n",
       "      <td>4.041568e-08</td>\n",
       "      <td>2.468821e-07</td>\n",
       "      <td>6.420822e+00</td>\n",
       "      <td>5.969306e+00</td>\n",
       "      <td>9.578505e-07</td>\n",
       "      <td>4.794537</td>\n",
       "      <td>34.333333</td>\n",
       "      <td>1.000000e+00</td>\n",
       "      <td>1.000000e+00</td>\n",
       "      <td>0.0</td>\n",
       "    </tr>\n",
       "    <tr>\n",
       "      <th>1</th>\n",
       "      <td>109.598716</td>\n",
       "      <td>4.304531</td>\n",
       "      <td>3.779165</td>\n",
       "      <td>3.779165</td>\n",
       "      <td>2.003874</td>\n",
       "      <td>2.003874</td>\n",
       "      <td>1.339262</td>\n",
       "      <td>4.913917e-01</td>\n",
       "      <td>-4.146018e-07</td>\n",
       "      <td>1.121924e+01</td>\n",
       "      <td>146.021535</td>\n",
       "      <td>1.500000</td>\n",
       "      <td>2.000000</td>\n",
       "      <td>2.200000</td>\n",
       "      <td>-0.02</td>\n",
       "      <td>136.108995</td>\n",
       "      <td>0.658391</td>\n",
       "      <td>10.777963</td>\n",
       "      <td>-0.260000</td>\n",
       "      <td>4.0</td>\n",
       "      <td>-4.122060e-07</td>\n",
       "      <td>6.798727e+01</td>\n",
       "      <td>4.041568e-08</td>\n",
       "      <td>2.468821e-07</td>\n",
       "      <td>2.161007e-07</td>\n",
       "      <td>1.774407e+01</td>\n",
       "      <td>3.229017e+01</td>\n",
       "      <td>4.794537</td>\n",
       "      <td>21.623566</td>\n",
       "      <td>-8.771056e-09</td>\n",
       "      <td>1.686567e-08</td>\n",
       "      <td>1.0</td>\n",
       "    </tr>\n",
       "    <tr>\n",
       "      <th>2</th>\n",
       "      <td>76.107508</td>\n",
       "      <td>2.642735</td>\n",
       "      <td>1.281284</td>\n",
       "      <td>1.281284</td>\n",
       "      <td>0.700524</td>\n",
       "      <td>0.700524</td>\n",
       "      <td>0.201185</td>\n",
       "      <td>2.201966e-08</td>\n",
       "      <td>5.969305e+00</td>\n",
       "      <td>6.420822e+00</td>\n",
       "      <td>88.016050</td>\n",
       "      <td>1.200000</td>\n",
       "      <td>1.200000</td>\n",
       "      <td>1.200000</td>\n",
       "      <td>-0.86</td>\n",
       "      <td>84.030000</td>\n",
       "      <td>1.229052</td>\n",
       "      <td>9.368055</td>\n",
       "      <td>-1.379630</td>\n",
       "      <td>2.0</td>\n",
       "      <td>1.252479e+01</td>\n",
       "      <td>5.969305e+00</td>\n",
       "      <td>6.923737e+00</td>\n",
       "      <td>2.468821e-07</td>\n",
       "      <td>2.161007e-07</td>\n",
       "      <td>1.175255e+01</td>\n",
       "      <td>6.420822e+00</td>\n",
       "      <td>9.589074</td>\n",
       "      <td>25.333335</td>\n",
       "      <td>1.000000e+00</td>\n",
       "      <td>1.000000e+00</td>\n",
       "      <td>1.0</td>\n",
       "    </tr>\n",
       "    <tr>\n",
       "      <th>3</th>\n",
       "      <td>1046.303355</td>\n",
       "      <td>18.988979</td>\n",
       "      <td>11.854177</td>\n",
       "      <td>12.890248</td>\n",
       "      <td>8.387468</td>\n",
       "      <td>15.057731</td>\n",
       "      <td>10.721594</td>\n",
       "      <td>3.587782e+00</td>\n",
       "      <td>9.065894e+01</td>\n",
       "      <td>-3.234642e-07</td>\n",
       "      <td>368.025695</td>\n",
       "      <td>0.571429</td>\n",
       "      <td>1.142857</td>\n",
       "      <td>1.714286</td>\n",
       "      <td>0.21</td>\n",
       "      <td>355.087004</td>\n",
       "      <td>8.584919</td>\n",
       "      <td>13.829839</td>\n",
       "      <td>-6.238744</td>\n",
       "      <td>21.0</td>\n",
       "      <td>-4.122060e-07</td>\n",
       "      <td>1.692753e+02</td>\n",
       "      <td>4.041568e-08</td>\n",
       "      <td>2.468821e-07</td>\n",
       "      <td>2.161007e-07</td>\n",
       "      <td>2.346809e+01</td>\n",
       "      <td>9.578505e-07</td>\n",
       "      <td>38.067924</td>\n",
       "      <td>103.000000</td>\n",
       "      <td>-8.771056e-09</td>\n",
       "      <td>1.686567e-08</td>\n",
       "      <td>0.0</td>\n",
       "    </tr>\n",
       "    <tr>\n",
       "      <th>4</th>\n",
       "      <td>201.038472</td>\n",
       "      <td>5.912790</td>\n",
       "      <td>2.262570</td>\n",
       "      <td>3.966974</td>\n",
       "      <td>1.852026</td>\n",
       "      <td>2.619452</td>\n",
       "      <td>1.951087</td>\n",
       "      <td>2.874575e-01</td>\n",
       "      <td>1.392666e+01</td>\n",
       "      <td>6.286160e+00</td>\n",
       "      <td>167.982373</td>\n",
       "      <td>1.300000</td>\n",
       "      <td>1.800000</td>\n",
       "      <td>2.000000</td>\n",
       "      <td>-0.34</td>\n",
       "      <td>163.001002</td>\n",
       "      <td>5.870000</td>\n",
       "      <td>10.740911</td>\n",
       "      <td>-4.571374</td>\n",
       "      <td>7.0</td>\n",
       "      <td>1.392666e+01</td>\n",
       "      <td>7.822697e+00</td>\n",
       "      <td>4.041568e-08</td>\n",
       "      <td>2.468821e-07</td>\n",
       "      <td>2.161007e-07</td>\n",
       "      <td>1.392666e+01</td>\n",
       "      <td>9.578505e-07</td>\n",
       "      <td>13.883332</td>\n",
       "      <td>23.287692</td>\n",
       "      <td>-8.771056e-09</td>\n",
       "      <td>1.686567e-08</td>\n",
       "      <td>0.0</td>\n",
       "    </tr>\n",
       "    <tr>\n",
       "      <th>5</th>\n",
       "      <td>613.473513</td>\n",
       "      <td>9.669721</td>\n",
       "      <td>5.297720</td>\n",
       "      <td>7.676516</td>\n",
       "      <td>4.677621</td>\n",
       "      <td>5.916974</td>\n",
       "      <td>3.592540</td>\n",
       "      <td>1.985071e+00</td>\n",
       "      <td>4.411442e+01</td>\n",
       "      <td>6.420822e+00</td>\n",
       "      <td>339.046753</td>\n",
       "      <td>1.454546</td>\n",
       "      <td>2.090909</td>\n",
       "      <td>2.590909</td>\n",
       "      <td>-1.52</td>\n",
       "      <td>325.084991</td>\n",
       "      <td>3.267507</td>\n",
       "      <td>11.765589</td>\n",
       "      <td>-4.659605</td>\n",
       "      <td>11.0</td>\n",
       "      <td>1.233187e+01</td>\n",
       "      <td>1.351244e+01</td>\n",
       "      <td>4.041568e-08</td>\n",
       "      <td>2.468821e-07</td>\n",
       "      <td>6.420822e+00</td>\n",
       "      <td>1.364056e+01</td>\n",
       "      <td>2.485665e+01</td>\n",
       "      <td>13.825659</td>\n",
       "      <td>55.768536</td>\n",
       "      <td>-8.771056e-09</td>\n",
       "      <td>1.686567e-08</td>\n",
       "      <td>1.0</td>\n",
       "    </tr>\n",
       "    <tr>\n",
       "      <th>6</th>\n",
       "      <td>176.586616</td>\n",
       "      <td>5.365190</td>\n",
       "      <td>3.176829</td>\n",
       "      <td>3.176829</td>\n",
       "      <td>2.236962</td>\n",
       "      <td>2.236962</td>\n",
       "      <td>1.291690</td>\n",
       "      <td>3.612817e-01</td>\n",
       "      <td>1.201115e+01</td>\n",
       "      <td>1.232800e+01</td>\n",
       "      <td>162.052831</td>\n",
       "      <td>1.285714</td>\n",
       "      <td>1.857143</td>\n",
       "      <td>2.285714</td>\n",
       "      <td>-1.30</td>\n",
       "      <td>152.061001</td>\n",
       "      <td>1.636170</td>\n",
       "      <td>12.153604</td>\n",
       "      <td>-1.047870</td>\n",
       "      <td>5.0</td>\n",
       "      <td>1.232800e+01</td>\n",
       "      <td>5.969305e+00</td>\n",
       "      <td>4.041568e-08</td>\n",
       "      <td>2.468821e-07</td>\n",
       "      <td>2.161007e-07</td>\n",
       "      <td>1.187648e+01</td>\n",
       "      <td>1.246266e+01</td>\n",
       "      <td>4.794537</td>\n",
       "      <td>35.166668</td>\n",
       "      <td>1.000000e+00</td>\n",
       "      <td>1.000000e+00</td>\n",
       "      <td>0.0</td>\n",
       "    </tr>\n",
       "    <tr>\n",
       "      <th>7</th>\n",
       "      <td>912.924915</td>\n",
       "      <td>11.377629</td>\n",
       "      <td>8.288051</td>\n",
       "      <td>8.288051</td>\n",
       "      <td>6.054845</td>\n",
       "      <td>6.054845</td>\n",
       "      <td>4.190068</td>\n",
       "      <td>1.109972e+00</td>\n",
       "      <td>-4.146018e-07</td>\n",
       "      <td>1.172216e+01</td>\n",
       "      <td>356.954164</td>\n",
       "      <td>1.041667</td>\n",
       "      <td>1.750000</td>\n",
       "      <td>2.541667</td>\n",
       "      <td>-0.08</td>\n",
       "      <td>344.964995</td>\n",
       "      <td>2.171022</td>\n",
       "      <td>10.909292</td>\n",
       "      <td>-0.172567</td>\n",
       "      <td>2.0</td>\n",
       "      <td>-4.122060e-07</td>\n",
       "      <td>1.849887e-07</td>\n",
       "      <td>2.618620e+01</td>\n",
       "      <td>9.228900e+01</td>\n",
       "      <td>2.161007e-07</td>\n",
       "      <td>4.468936e-07</td>\n",
       "      <td>8.397359e+01</td>\n",
       "      <td>9.843391</td>\n",
       "      <td>53.304771</td>\n",
       "      <td>-8.771056e-09</td>\n",
       "      <td>1.686567e-08</td>\n",
       "      <td>1.0</td>\n",
       "    </tr>\n",
       "    <tr>\n",
       "      <th>8</th>\n",
       "      <td>408.518919</td>\n",
       "      <td>5.236382</td>\n",
       "      <td>4.061120</td>\n",
       "      <td>4.061120</td>\n",
       "      <td>2.816709</td>\n",
       "      <td>2.816709</td>\n",
       "      <td>1.975615</td>\n",
       "      <td>1.333579e+00</td>\n",
       "      <td>5.969305e+00</td>\n",
       "      <td>2.353304e+01</td>\n",
       "      <td>174.111679</td>\n",
       "      <td>1.357143</td>\n",
       "      <td>2.142857</td>\n",
       "      <td>2.642857</td>\n",
       "      <td>-1.59</td>\n",
       "      <td>160.084000</td>\n",
       "      <td>1.402946</td>\n",
       "      <td>10.087824</td>\n",
       "      <td>-0.883426</td>\n",
       "      <td>2.0</td>\n",
       "      <td>-4.122060e-07</td>\n",
       "      <td>5.969305e+00</td>\n",
       "      <td>3.033184e+01</td>\n",
       "      <td>1.198427e+01</td>\n",
       "      <td>6.420822e+00</td>\n",
       "      <td>1.687223e+01</td>\n",
       "      <td>1.888348e+01</td>\n",
       "      <td>11.215359</td>\n",
       "      <td>39.666668</td>\n",
       "      <td>1.000000e+00</td>\n",
       "      <td>1.000000e+00</td>\n",
       "      <td>1.0</td>\n",
       "    </tr>\n",
       "    <tr>\n",
       "      <th>9</th>\n",
       "      <td>128.621110</td>\n",
       "      <td>5.092224</td>\n",
       "      <td>2.864808</td>\n",
       "      <td>2.864808</td>\n",
       "      <td>1.990436</td>\n",
       "      <td>1.990436</td>\n",
       "      <td>1.134602</td>\n",
       "      <td>4.633679e-01</td>\n",
       "      <td>1.124901e+01</td>\n",
       "      <td>1.116388e+01</td>\n",
       "      <td>160.037167</td>\n",
       "      <td>1.272727</td>\n",
       "      <td>1.818182</td>\n",
       "      <td>2.181818</td>\n",
       "      <td>-1.10</td>\n",
       "      <td>148.072993</td>\n",
       "      <td>2.038928</td>\n",
       "      <td>10.276111</td>\n",
       "      <td>-1.025417</td>\n",
       "      <td>5.0</td>\n",
       "      <td>-4.122060e-07</td>\n",
       "      <td>5.969305e+00</td>\n",
       "      <td>4.041568e-08</td>\n",
       "      <td>2.468821e-07</td>\n",
       "      <td>2.161007e-07</td>\n",
       "      <td>1.116388e+01</td>\n",
       "      <td>9.578505e-07</td>\n",
       "      <td>9.589074</td>\n",
       "      <td>33.249999</td>\n",
       "      <td>1.000000e+00</td>\n",
       "      <td>1.000000e+00</td>\n",
       "      <td>1.0</td>\n",
       "    </tr>\n",
       "  </tbody>\n",
       "</table>"
      ],
      "text/plain": [
       "<IPython.core.display.HTML object>"
      ]
     },
     "metadata": {},
     "output_type": "display_data"
    }
   ],
   "source": [
    "dls.show_batch()"
   ]
  },
  {
   "cell_type": "code",
   "execution_count": 10,
   "id": "0436f56e",
   "metadata": {
    "execution": {
     "iopub.execute_input": "2023-06-30T16:48:15.369875Z",
     "iopub.status.busy": "2023-06-30T16:48:15.369429Z",
     "iopub.status.idle": "2023-06-30T16:48:15.391036Z",
     "shell.execute_reply": "2023-06-30T16:48:15.389901Z"
    },
    "papermill": {
     "duration": 0.032065,
     "end_time": "2023-06-30T16:48:15.393685",
     "exception": false,
     "start_time": "2023-06-30T16:48:15.361620",
     "status": "completed"
    },
    "tags": []
   },
   "outputs": [],
   "source": [
    "learner = tabular_learner(dls, metrics = accuracy)"
   ]
  },
  {
   "cell_type": "code",
   "execution_count": 11,
   "id": "24901970",
   "metadata": {
    "execution": {
     "iopub.execute_input": "2023-06-30T16:48:15.409777Z",
     "iopub.status.busy": "2023-06-30T16:48:15.408900Z",
     "iopub.status.idle": "2023-06-30T16:48:32.753189Z",
     "shell.execute_reply": "2023-06-30T16:48:32.751712Z"
    },
    "papermill": {
     "duration": 17.355329,
     "end_time": "2023-06-30T16:48:32.756138",
     "exception": false,
     "start_time": "2023-06-30T16:48:15.400809",
     "status": "completed"
    },
    "tags": []
   },
   "outputs": [
    {
     "data": {
      "text/html": [
       "\n",
       "<style>\n",
       "    /* Turns off some styling */\n",
       "    progress {\n",
       "        /* gets rid of default border in Firefox and Opera. */\n",
       "        border: none;\n",
       "        /* Needs to be in here for Safari polyfill so background images work as expected. */\n",
       "        background-size: auto;\n",
       "    }\n",
       "    progress:not([value]), progress:not([value])::-webkit-progress-bar {\n",
       "        background: repeating-linear-gradient(45deg, #7e7e7e, #7e7e7e 10px, #5c5c5c 10px, #5c5c5c 20px);\n",
       "    }\n",
       "    .progress-bar-interrupted, .progress-bar-interrupted::-webkit-progress-bar {\n",
       "        background: #F44336;\n",
       "    }\n",
       "</style>\n"
      ],
      "text/plain": [
       "<IPython.core.display.HTML object>"
      ]
     },
     "metadata": {},
     "output_type": "display_data"
    },
    {
     "data": {
      "text/html": [
       "<table border=\"1\" class=\"dataframe\">\n",
       "  <thead>\n",
       "    <tr style=\"text-align: left;\">\n",
       "      <th>epoch</th>\n",
       "      <th>train_loss</th>\n",
       "      <th>valid_loss</th>\n",
       "      <th>accuracy</th>\n",
       "      <th>time</th>\n",
       "    </tr>\n",
       "  </thead>\n",
       "  <tbody>\n",
       "    <tr>\n",
       "      <td>0</td>\n",
       "      <td>0.240693</td>\n",
       "      <td>0.209253</td>\n",
       "      <td>0.334344</td>\n",
       "      <td>00:01</td>\n",
       "    </tr>\n",
       "    <tr>\n",
       "      <td>1</td>\n",
       "      <td>0.210726</td>\n",
       "      <td>0.213080</td>\n",
       "      <td>0.334344</td>\n",
       "      <td>00:01</td>\n",
       "    </tr>\n",
       "    <tr>\n",
       "      <td>2</td>\n",
       "      <td>0.206431</td>\n",
       "      <td>0.200692</td>\n",
       "      <td>0.334344</td>\n",
       "      <td>00:01</td>\n",
       "    </tr>\n",
       "    <tr>\n",
       "      <td>3</td>\n",
       "      <td>0.200703</td>\n",
       "      <td>0.202601</td>\n",
       "      <td>0.334344</td>\n",
       "      <td>00:01</td>\n",
       "    </tr>\n",
       "    <tr>\n",
       "      <td>4</td>\n",
       "      <td>0.198671</td>\n",
       "      <td>0.199365</td>\n",
       "      <td>0.334344</td>\n",
       "      <td>00:01</td>\n",
       "    </tr>\n",
       "    <tr>\n",
       "      <td>5</td>\n",
       "      <td>0.197092</td>\n",
       "      <td>0.203261</td>\n",
       "      <td>0.334344</td>\n",
       "      <td>00:01</td>\n",
       "    </tr>\n",
       "    <tr>\n",
       "      <td>6</td>\n",
       "      <td>0.199910</td>\n",
       "      <td>0.200378</td>\n",
       "      <td>0.334344</td>\n",
       "      <td>00:01</td>\n",
       "    </tr>\n",
       "    <tr>\n",
       "      <td>7</td>\n",
       "      <td>0.199119</td>\n",
       "      <td>0.201132</td>\n",
       "      <td>0.334344</td>\n",
       "      <td>00:01</td>\n",
       "    </tr>\n",
       "    <tr>\n",
       "      <td>8</td>\n",
       "      <td>0.192604</td>\n",
       "      <td>0.200346</td>\n",
       "      <td>0.334344</td>\n",
       "      <td>00:01</td>\n",
       "    </tr>\n",
       "    <tr>\n",
       "      <td>9</td>\n",
       "      <td>0.195641</td>\n",
       "      <td>0.200581</td>\n",
       "      <td>0.334344</td>\n",
       "      <td>00:01</td>\n",
       "    </tr>\n",
       "  </tbody>\n",
       "</table>"
      ],
      "text/plain": [
       "<IPython.core.display.HTML object>"
      ]
     },
     "metadata": {},
     "output_type": "display_data"
    }
   ],
   "source": [
    "learner.fit(n_epoch = 10)"
   ]
  },
  {
   "cell_type": "code",
   "execution_count": 12,
   "id": "3e61e508",
   "metadata": {
    "execution": {
     "iopub.execute_input": "2023-06-30T16:48:32.772076Z",
     "iopub.status.busy": "2023-06-30T16:48:32.771697Z",
     "iopub.status.idle": "2023-06-30T16:48:33.346293Z",
     "shell.execute_reply": "2023-06-30T16:48:33.345083Z"
    },
    "papermill": {
     "duration": 0.585425,
     "end_time": "2023-06-30T16:48:33.348991",
     "exception": false,
     "start_time": "2023-06-30T16:48:32.763566",
     "status": "completed"
    },
    "tags": []
   },
   "outputs": [
    {
     "data": {
      "text/html": [
       "\n",
       "<style>\n",
       "    /* Turns off some styling */\n",
       "    progress {\n",
       "        /* gets rid of default border in Firefox and Opera. */\n",
       "        border: none;\n",
       "        /* Needs to be in here for Safari polyfill so background images work as expected. */\n",
       "        background-size: auto;\n",
       "    }\n",
       "    progress:not([value]), progress:not([value])::-webkit-progress-bar {\n",
       "        background: repeating-linear-gradient(45deg, #7e7e7e, #7e7e7e 10px, #5c5c5c 10px, #5c5c5c 20px);\n",
       "    }\n",
       "    .progress-bar-interrupted, .progress-bar-interrupted::-webkit-progress-bar {\n",
       "        background: #F44336;\n",
       "    }\n",
       "</style>\n"
      ],
      "text/plain": [
       "<IPython.core.display.HTML object>"
      ]
     },
     "metadata": {},
     "output_type": "display_data"
    },
    {
     "data": {
      "text/html": [],
      "text/plain": [
       "<IPython.core.display.HTML object>"
      ]
     },
     "metadata": {},
     "output_type": "display_data"
    }
   ],
   "source": [
    "test_dl = learner.dls.test_dl(test_data,\n",
    "                             procs= [Normalize], \n",
    "                             cont_names=['BertzCT', 'Chi1', 'Chi1n', 'Chi1v', 'Chi2n', 'Chi2v', 'Chi3v', 'Chi4n',\n",
    "       'EState_VSA1', 'EState_VSA2', 'ExactMolWt', 'FpDensityMorgan1',\n",
    "       'FpDensityMorgan2', 'FpDensityMorgan3', 'HallKierAlpha',\n",
    "       'HeavyAtomMolWt', 'Kappa3', 'MaxAbsEStateIndex', 'MinEStateIndex',\n",
    "       'NumHeteroatoms', 'PEOE_VSA10', 'PEOE_VSA14', 'PEOE_VSA6', 'PEOE_VSA7',\n",
    "       'PEOE_VSA8', 'SMR_VSA10', 'SMR_VSA5', 'SlogP_VSA3', 'VSA_EState9',\n",
    "       'fr_COO', 'fr_COO2'],y_names = ['EC1'])\n",
    "y_EC1 = learner.get_preds(dl = test_dl) # Make predictions on it\n"
   ]
  },
  {
   "cell_type": "code",
   "execution_count": 13,
   "id": "bb047562",
   "metadata": {
    "execution": {
     "iopub.execute_input": "2023-06-30T16:48:33.365360Z",
     "iopub.status.busy": "2023-06-30T16:48:33.364942Z",
     "iopub.status.idle": "2023-06-30T16:48:33.990111Z",
     "shell.execute_reply": "2023-06-30T16:48:33.988972Z"
    },
    "papermill": {
     "duration": 0.63637,
     "end_time": "2023-06-30T16:48:33.992611",
     "exception": false,
     "start_time": "2023-06-30T16:48:33.356241",
     "status": "completed"
    },
    "tags": []
   },
   "outputs": [
    {
     "data": {
      "text/html": [
       "\n",
       "<style>\n",
       "    /* Turns off some styling */\n",
       "    progress {\n",
       "        /* gets rid of default border in Firefox and Opera. */\n",
       "        border: none;\n",
       "        /* Needs to be in here for Safari polyfill so background images work as expected. */\n",
       "        background-size: auto;\n",
       "    }\n",
       "    progress:not([value]), progress:not([value])::-webkit-progress-bar {\n",
       "        background: repeating-linear-gradient(45deg, #7e7e7e, #7e7e7e 10px, #5c5c5c 10px, #5c5c5c 20px);\n",
       "    }\n",
       "    .progress-bar-interrupted, .progress-bar-interrupted::-webkit-progress-bar {\n",
       "        background: #F44336;\n",
       "    }\n",
       "</style>\n"
      ],
      "text/plain": [
       "<IPython.core.display.HTML object>"
      ]
     },
     "metadata": {},
     "output_type": "display_data"
    },
    {
     "data": {
      "text/html": [],
      "text/plain": [
       "<IPython.core.display.HTML object>"
      ]
     },
     "metadata": {},
     "output_type": "display_data"
    }
   ],
   "source": [
    "dls = TabularDataLoaders.from_df(train_data,\n",
    "                             procs= [Normalize], \n",
    "                             cont_names=['BertzCT', 'Chi1', 'Chi1n', 'Chi1v', 'Chi2n', 'Chi2v', 'Chi3v', 'Chi4n',\n",
    "       'EState_VSA1', 'EState_VSA2', 'ExactMolWt', 'FpDensityMorgan1',\n",
    "       'FpDensityMorgan2', 'FpDensityMorgan3', 'HallKierAlpha',\n",
    "       'HeavyAtomMolWt', 'Kappa3', 'MaxAbsEStateIndex', 'MinEStateIndex',\n",
    "       'NumHeteroatoms', 'PEOE_VSA10', 'PEOE_VSA14', 'PEOE_VSA6', 'PEOE_VSA7',\n",
    "       'PEOE_VSA8', 'SMR_VSA10', 'SMR_VSA5', 'SlogP_VSA3', 'VSA_EState9',\n",
    "       'fr_COO', 'fr_COO2'],\n",
    "                             y_names = ['EC2']\n",
    "                             )\n",
    "\n",
    "learner = tabular_learner(dls, metrics = accuracy)\n",
    "\n",
    "test_dl = learner.dls.test_dl(test_data,\n",
    "                             procs= [Normalize], \n",
    "                             cont_names=['BertzCT', 'Chi1', 'Chi1n', 'Chi1v', 'Chi2n', 'Chi2v', 'Chi3v', 'Chi4n',\n",
    "       'EState_VSA1', 'EState_VSA2', 'ExactMolWt', 'FpDensityMorgan1',\n",
    "       'FpDensityMorgan2', 'FpDensityMorgan3', 'HallKierAlpha',\n",
    "       'HeavyAtomMolWt', 'Kappa3', 'MaxAbsEStateIndex', 'MinEStateIndex',\n",
    "       'NumHeteroatoms', 'PEOE_VSA10', 'PEOE_VSA14', 'PEOE_VSA6', 'PEOE_VSA7',\n",
    "       'PEOE_VSA8', 'SMR_VSA10', 'SMR_VSA5', 'SlogP_VSA3', 'VSA_EState9',\n",
    "       'fr_COO', 'fr_COO2'])\n",
    "y_EC2 = learner.get_preds(dl = test_dl) # Make predictions on it\n"
   ]
  },
  {
   "cell_type": "code",
   "execution_count": 14,
   "id": "d9db1c2d",
   "metadata": {
    "execution": {
     "iopub.execute_input": "2023-06-30T16:48:34.008812Z",
     "iopub.status.busy": "2023-06-30T16:48:34.008368Z",
     "iopub.status.idle": "2023-06-30T16:48:34.013369Z",
     "shell.execute_reply": "2023-06-30T16:48:34.012296Z"
    },
    "papermill": {
     "duration": 0.016112,
     "end_time": "2023-06-30T16:48:34.016038",
     "exception": false,
     "start_time": "2023-06-30T16:48:33.999926",
     "status": "completed"
    },
    "tags": []
   },
   "outputs": [],
   "source": [
    "y_EC1 = y_EC1[0]\n",
    "y_EC2 = y_EC2[0]"
   ]
  },
  {
   "cell_type": "code",
   "execution_count": 15,
   "id": "68cc79be",
   "metadata": {
    "execution": {
     "iopub.execute_input": "2023-06-30T16:48:34.032492Z",
     "iopub.status.busy": "2023-06-30T16:48:34.032101Z",
     "iopub.status.idle": "2023-06-30T16:48:34.036692Z",
     "shell.execute_reply": "2023-06-30T16:48:34.035635Z"
    },
    "papermill": {
     "duration": 0.015741,
     "end_time": "2023-06-30T16:48:34.039135",
     "exception": false,
     "start_time": "2023-06-30T16:48:34.023394",
     "status": "completed"
    },
    "tags": []
   },
   "outputs": [],
   "source": [
    "y_EC1 = y_EC1.numpy()\n",
    "y_EC2 = y_EC2.numpy()"
   ]
  },
  {
   "cell_type": "code",
   "execution_count": 16,
   "id": "ee3d16e0",
   "metadata": {
    "execution": {
     "iopub.execute_input": "2023-06-30T16:48:34.055609Z",
     "iopub.status.busy": "2023-06-30T16:48:34.055007Z",
     "iopub.status.idle": "2023-06-30T16:48:34.079440Z",
     "shell.execute_reply": "2023-06-30T16:48:34.078102Z"
    },
    "papermill": {
     "duration": 0.035527,
     "end_time": "2023-06-30T16:48:34.081979",
     "exception": false,
     "start_time": "2023-06-30T16:48:34.046452",
     "status": "completed"
    },
    "tags": []
   },
   "outputs": [],
   "source": [
    "ans_EC1 = []\n",
    "mid = y_EC1.max() + y_EC1.min()\n",
    "mid /= 2\n",
    "for i in y_EC1:\n",
    "    if i >= mid: ans_EC1.append(1)\n",
    "    else: ans_EC1.append(0)"
   ]
  },
  {
   "cell_type": "code",
   "execution_count": 17,
   "id": "e0440765",
   "metadata": {
    "execution": {
     "iopub.execute_input": "2023-06-30T16:48:34.099283Z",
     "iopub.status.busy": "2023-06-30T16:48:34.098669Z",
     "iopub.status.idle": "2023-06-30T16:48:34.122441Z",
     "shell.execute_reply": "2023-06-30T16:48:34.121570Z"
    },
    "papermill": {
     "duration": 0.035342,
     "end_time": "2023-06-30T16:48:34.124792",
     "exception": false,
     "start_time": "2023-06-30T16:48:34.089450",
     "status": "completed"
    },
    "tags": []
   },
   "outputs": [],
   "source": [
    "ans_EC2 = []\n",
    "mid = y_EC2.max() + y_EC2.min()\n",
    "mid /= 2\n",
    "for i in y_EC2:\n",
    "    if i >= mid: ans_EC2.append(1)\n",
    "    else: ans_EC2.append(0)"
   ]
  },
  {
   "cell_type": "code",
   "execution_count": 18,
   "id": "6cef3948",
   "metadata": {
    "execution": {
     "iopub.execute_input": "2023-06-30T16:48:34.141697Z",
     "iopub.status.busy": "2023-06-30T16:48:34.140575Z",
     "iopub.status.idle": "2023-06-30T16:48:34.150677Z",
     "shell.execute_reply": "2023-06-30T16:48:34.149760Z"
    },
    "papermill": {
     "duration": 0.020857,
     "end_time": "2023-06-30T16:48:34.153009",
     "exception": false,
     "start_time": "2023-06-30T16:48:34.132152",
     "status": "completed"
    },
    "tags": []
   },
   "outputs": [],
   "source": [
    "sub_df['EC1'] = ans_EC1\n",
    "sub_df['EC2'] = ans_EC2"
   ]
  },
  {
   "cell_type": "code",
   "execution_count": 19,
   "id": "c8c21b9a",
   "metadata": {
    "execution": {
     "iopub.execute_input": "2023-06-30T16:48:34.170979Z",
     "iopub.status.busy": "2023-06-30T16:48:34.169785Z",
     "iopub.status.idle": "2023-06-30T16:48:34.199059Z",
     "shell.execute_reply": "2023-06-30T16:48:34.197858Z"
    },
    "papermill": {
     "duration": 0.040812,
     "end_time": "2023-06-30T16:48:34.201837",
     "exception": false,
     "start_time": "2023-06-30T16:48:34.161025",
     "status": "completed"
    },
    "tags": []
   },
   "outputs": [],
   "source": [
    "sub_df.to_csv('submission.csv')"
   ]
  },
  {
   "cell_type": "code",
   "execution_count": null,
   "id": "df7c42e3",
   "metadata": {
    "papermill": {
     "duration": 0.007888,
     "end_time": "2023-06-30T16:48:34.217789",
     "exception": false,
     "start_time": "2023-06-30T16:48:34.209901",
     "status": "completed"
    },
    "tags": []
   },
   "outputs": [],
   "source": []
  }
 ],
 "metadata": {
  "kernelspec": {
   "display_name": "Python 3",
   "language": "python",
   "name": "python3"
  },
  "language_info": {
   "codemirror_mode": {
    "name": "ipython",
    "version": 3
   },
   "file_extension": ".py",
   "mimetype": "text/x-python",
   "name": "python",
   "nbconvert_exporter": "python",
   "pygments_lexer": "ipython3",
   "version": "3.10.10"
  },
  "papermill": {
   "default_parameters": {},
   "duration": 49.147771,
   "end_time": "2023-06-30T16:48:35.750289",
   "environment_variables": {},
   "exception": null,
   "input_path": "__notebook__.ipynb",
   "output_path": "__notebook__.ipynb",
   "parameters": {},
   "start_time": "2023-06-30T16:47:46.602518",
   "version": "2.4.0"
  }
 },
 "nbformat": 4,
 "nbformat_minor": 5
}
